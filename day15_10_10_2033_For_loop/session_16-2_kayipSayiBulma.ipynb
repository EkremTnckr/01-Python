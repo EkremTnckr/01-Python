{
 "cells": [
  {
   "cell_type": "markdown",
   "metadata": {},
   "source": [
    "SORU : En kucuk ve en buyuk sayilar arasinda kayip sayilari bulunuz.<br>\n",
    "num = [48, 10, 11, 21, 36, 5, 6, 52, 28, 29,<br>\n",
    "       53, 54, 45, 19, 20, 47, 55, 39, 41, 7,<br>\n",
    "       9, 17, 26, 27, 42, 22, 37, 51, 46, 18,<br>\n",
    "       44, 30, 34, 13, 15, 35, 33, 16, 50, 24]\n"
   ]
  },
  {
   "cell_type": "code",
   "execution_count": 1,
   "metadata": {},
   "outputs": [],
   "source": [
    "num = [48, 10, 11, 21, 36, 5, 6, 52, 28, 29,\n",
    "       53, 54, 45, 19, 20, 47, 55, 39, 41, 7,\n",
    "       9, 17, 26, 27, 42, 22, 37, 51, 46, 18,\n",
    "       44, 30, 34, 13, 15, 35, 33, 16, 50, 24]"
   ]
  },
  {
   "cell_type": "code",
   "execution_count": 2,
   "metadata": {},
   "outputs": [
    {
     "name": "stdout",
     "output_type": "stream",
     "text": [
      "[8, 12, 14, 23, 25, 31, 32, 38, 40, 43, 49]\n"
     ]
    }
   ],
   "source": [
    "# method 1\n",
    "\n",
    "kayip_sayilar= []\n",
    "\n",
    "for i in range(min(num), max(num)):\n",
    "    if i not in num:\n",
    "        kayip_sayilar.append(i)\n",
    "print(kayip_sayilar)\n",
    "        \n",
    "        "
   ]
  },
  {
   "cell_type": "code",
   "execution_count": 4,
   "metadata": {},
   "outputs": [
    {
     "name": "stdout",
     "output_type": "stream",
     "text": [
      "[]\n"
     ]
    }
   ],
   "source": [
    "# method 2\n",
    "\n",
    "kayip_sayilar= []\n",
    "\n",
    "for i in range(min(num), max(num)):\n",
    "    if i  in num:\n",
    "        continue\n",
    "        kayip_sayilar.append(i)\n",
    "print(kayip_sayilar)\n"
   ]
  },
  {
   "cell_type": "code",
   "execution_count": 5,
   "metadata": {},
   "outputs": [
    {
     "data": {
      "text/plain": [
       "{8, 12, 14, 23, 25, 31, 32, 38, 40, 43, 49}"
      ]
     },
     "execution_count": 5,
     "metadata": {},
     "output_type": "execute_result"
    }
   ],
   "source": [
    "# method 3 set kullanarak\n",
    "full_set = set(range(min(num),max(num)))\n",
    "num_set =set(num)\n",
    "full_set -num_set\n"
   ]
  }
 ],
 "metadata": {
  "kernelspec": {
   "display_name": "Python 3",
   "language": "python",
   "name": "python3"
  },
  "language_info": {
   "codemirror_mode": {
    "name": "ipython",
    "version": 3
   },
   "file_extension": ".py",
   "mimetype": "text/x-python",
   "name": "python",
   "nbconvert_exporter": "python",
   "pygments_lexer": "ipython3",
   "version": "3.11.6"
  }
 },
 "nbformat": 4,
 "nbformat_minor": 2
}
