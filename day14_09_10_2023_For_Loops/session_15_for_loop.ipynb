{
 "cells": [
  {
   "cell_type": "markdown",
   "metadata": {},
   "source": [
    "## LOOPS \n",
    "## for \n"
   ]
  },
  {
   "cell_type": "markdown",
   "metadata": {},
   "source": [
    "for dongusunun yapisi <br>\n",
    "\n",
    "for i in iterable:\n",
    "    body \n",
    "\n",
    "for dongusu iterable larla calisir. for dongusu ile iterable tum elemanlarina tek tek ulasabilirsiniz.<br>\n",
    "    \n"
   ]
  },
  {
   "cell_type": "code",
   "execution_count": 2,
   "metadata": {},
   "outputs": [
    {
     "name": "stdout",
     "output_type": "stream",
     "text": [
      "t\n",
      "e\n",
      "c\n",
      "h\n",
      "p\n",
      "r\n",
      "o\n"
     ]
    }
   ],
   "source": [
    "for i in \"techpro\":  # iterable eleman techpro  tum elemanlara ulasir \n",
    "    print(i)"
   ]
  },
  {
   "cell_type": "code",
   "execution_count": 3,
   "metadata": {},
   "outputs": [
    {
     "name": "stdout",
     "output_type": "stream",
     "text": [
      "F\n",
      "e\n",
      "n\n",
      "e\n",
      "r\n",
      "b\n",
      "a\n",
      "h\n",
      "c\n",
      "e\n"
     ]
    }
   ],
   "source": [
    "for i in \"Fenerbahce\":\n",
    "    print(i)"
   ]
  },
  {
   "cell_type": "code",
   "execution_count": 4,
   "metadata": {},
   "outputs": [
    {
     "name": "stdout",
     "output_type": "stream",
     "text": [
      "1\n",
      "4\n",
      "9\n",
      "16\n",
      "25\n"
     ]
    }
   ],
   "source": [
    " # listede elemanlarin karesini alalim \n",
    " \n",
    "for i in [1,2,3,4,5]:\n",
    "    print(i ** 2)"
   ]
  },
  {
   "cell_type": "code",
   "execution_count": 5,
   "metadata": {},
   "outputs": [
    {
     "name": "stdout",
     "output_type": "stream",
     "text": [
      "Ahmet\n",
      "Nazim\n",
      "Ali\n",
      "Omer\n"
     ]
    }
   ],
   "source": [
    "#listedeki elemanlarin kucuk harfle yazilmis.\n",
    "# Listede gecen isimlerin ilk harflerinin buyuk harfle yazilmasini  istiyoruz \n",
    "\n",
    "\n",
    "for i in [\"ahmet\",\"nazim\",\"ali\",\"omer\"]:\n",
    "    print(i.capitalize())"
   ]
  },
  {
   "cell_type": "code",
   "execution_count": 7,
   "metadata": {},
   "outputs": [
    {
     "name": "stdout",
     "output_type": "stream",
     "text": [
      "Ahmet** Nazim** Ali** Omer** "
     ]
    }
   ],
   "source": [
    "# listedeki isimleri yanyana yazdiralim \n",
    "for i in [\"ahmet\",\"nazim\",\"ali\",\"omer\"]:\n",
    "    print(i.capitalize(),end=\"** \")"
   ]
  },
  {
   "cell_type": "code",
   "execution_count": 6,
   "metadata": {},
   "outputs": [
    {
     "name": "stdout",
     "output_type": "stream",
     "text": [
      "AHMET\n",
      "NAZIM\n",
      "ALI\n",
      "OMER\n"
     ]
    }
   ],
   "source": [
    "# listedeki isimlerin tumunu buyuk harfle yazdiralim \n",
    "for i in [\"ahmet\",\"nazim\",\"ali\",\"omer\"]:\n",
    "    print(i.upper())"
   ]
  },
  {
   "cell_type": "markdown",
   "metadata": {},
   "source": [
    "Soru : <br>\n",
    "#\"Techpro\"  string ifadesinde tum karakter arasina \"-\" koymak istiyorum\n",
    "yani su sekilde yazilsin  \"T-e-c-h-p-r-o\"\n"
   ]
  },
  {
   "cell_type": "code",
   "execution_count": 9,
   "metadata": {},
   "outputs": [
    {
     "data": {
      "text/plain": [
       "'T-e-c-h-p-r-o'"
      ]
     },
     "execution_count": 9,
     "metadata": {},
     "output_type": "execute_result"
    }
   ],
   "source": [
    "emty_str = \"\"\n",
    "for i in \"Techpro\":\n",
    "    emty_str += i + \"-\"\n",
    "emty_str .strip(\"-\")   \n",
    "\n",
    "\n"
   ]
  },
  {
   "cell_type": "code",
   "execution_count": 12,
   "metadata": {},
   "outputs": [
    {
     "data": {
      "text/plain": [
       "'t-e-c-h-p-r-o'"
      ]
     },
     "execution_count": 12,
     "metadata": {},
     "output_type": "execute_result"
    }
   ],
   "source": [
    "# join  fonk. ile de yapilabilir. \n",
    "\"-\".join(\"techpro\")"
   ]
  },
  {
   "cell_type": "markdown",
   "metadata": {},
   "source": [
    "soru: <br>\n",
    "\"Techpro Education\" ifadesinde her elemanin icerisine \"**\" koyarak yaziniz\n"
   ]
  },
  {
   "cell_type": "code",
   "execution_count": 13,
   "metadata": {},
   "outputs": [
    {
     "data": {
      "text/plain": [
       "'T**e**c**h**p**r**o** **E**d**u**c**a**t**i**o**n'"
      ]
     },
     "execution_count": 13,
     "metadata": {},
     "output_type": "execute_result"
    }
   ],
   "source": [
    "\"**\".join(\"Techpro Education\")"
   ]
  },
  {
   "cell_type": "markdown",
   "metadata": {},
   "source": [
    "## for dongusunun dict. ile kullanilmasi"
   ]
  },
  {
   "cell_type": "code",
   "execution_count": 3,
   "metadata": {},
   "outputs": [
    {
     "data": {
      "text/plain": [
       "{'name': 'Yusuf', 'surname': 'Ahmet', 'age': 26}"
      ]
     },
     "execution_count": 3,
     "metadata": {},
     "output_type": "execute_result"
    }
   ],
   "source": [
    "dict_1 ={\"name\": \"Yusuf\",\"surname\":\"Ahmet\", \"age\":26}\n",
    "dict_1"
   ]
  },
  {
   "cell_type": "code",
   "execution_count": 4,
   "metadata": {},
   "outputs": [
    {
     "name": "stdout",
     "output_type": "stream",
     "text": [
      "name\n",
      "surname\n",
      "age\n"
     ]
    }
   ],
   "source": [
    "for i in dict_1:\n",
    "    print(i)"
   ]
  },
  {
   "cell_type": "code",
   "execution_count": 18,
   "metadata": {},
   "outputs": [
    {
     "name": "stdout",
     "output_type": "stream",
     "text": [
      "Yusuf\n",
      "Ahmet\n",
      "26\n"
     ]
    }
   ],
   "source": [
    "for i in dict_1.values():\n",
    "    print(i)"
   ]
  },
  {
   "cell_type": "code",
   "execution_count": 19,
   "metadata": {},
   "outputs": [
    {
     "data": {
      "text/plain": [
       "dict_items([('name', 'Yusuf'), ('surname', 'Ahmet'), ('age', 26)])"
      ]
     },
     "execution_count": 19,
     "metadata": {},
     "output_type": "execute_result"
    }
   ],
   "source": [
    "# key ayri value ayri nasil ulasacagiz\n",
    "\n",
    "dict_1.items()"
   ]
  },
  {
   "cell_type": "code",
   "execution_count": 20,
   "metadata": {},
   "outputs": [
    {
     "name": "stdout",
     "output_type": "stream",
     "text": [
      "('name', 'Yusuf')\n",
      "('surname', 'Ahmet')\n",
      "('age', 26)\n"
     ]
    }
   ],
   "source": [
    "for i in dict_1.items():\n",
    "    print(i)"
   ]
  },
  {
   "cell_type": "code",
   "execution_count": 23,
   "metadata": {},
   "outputs": [
    {
     "name": "stdout",
     "output_type": "stream",
     "text": [
      "key:name, value:Yusuf\n",
      "key:surname, value:Ahmet\n",
      "key:age, value:26\n"
     ]
    }
   ],
   "source": [
    "for i , j in dict_1.items():\n",
    "    print(f\"key:{i}, value:{j}\")"
   ]
  },
  {
   "cell_type": "code",
   "execution_count": 25,
   "metadata": {},
   "outputs": [
    {
     "name": "stdout",
     "output_type": "stream",
     "text": [
      "key:      name, value:Yusuf\n",
      "key:   surname, value:Ahmet\n",
      "key:       age, value:26\n"
     ]
    }
   ],
   "source": [
    "# f string  yazimi ile farkli bir yaklasim\n",
    "\n",
    "for i, j in dict_1.items():\n",
    "    print(f\"key:{i:>10}, value:{j}\") # (i:<10)i yi 10 karakter yazdir ve sola yasla"
   ]
  },
  {
   "cell_type": "code",
   "execution_count": 26,
   "metadata": {},
   "outputs": [
    {
     "name": "stdout",
     "output_type": "stream",
     "text": [
      "key:   name   , value:Yusuf\n",
      "key: surname  , value:Ahmet\n",
      "key:   age    , value:26\n"
     ]
    }
   ],
   "source": [
    "for i, j in dict_1.items():\n",
    "    print(f\"key:{i:^10}, value:{j}\")  # ortaladi "
   ]
  },
  {
   "cell_type": "code",
   "execution_count": 30,
   "metadata": {},
   "outputs": [
    {
     "name": "stdout",
     "output_type": "stream",
     "text": [
      "i:ali,j:data_scientist,k:26\n",
      "i:veli,j:python_developer,k:28\n"
     ]
    }
   ],
   "source": [
    "for i, j,k in  [(\"ali\", \"data_scientist\",26),(\"veli\",\"python_developer\",28)]: # tuple\n",
    "    print(f\"i:{i},j:{j},k:{k}\")\n",
    "    \n",
    "    # yani for dongusunde tek bir degisken alacagiz diye bir kural yok \n",
    "    # bir,iki,uc degisken alabildik yeter ki formatimiz uysun. "
   ]
  },
  {
   "cell_type": "markdown",
   "metadata": {},
   "source": [
    " for dongusunu sonsuz dongu nasil yapabiliriz"
   ]
  },
  {
   "cell_type": "code",
   "execution_count": null,
   "metadata": {},
   "outputs": [],
   "source": [
    "## calistirma sonsuz dongu calisir \n",
    "liste_1 = [\"sonsuz dongu\"]\n",
    "\n",
    "for i in liste_1:\n",
    "    print(i)\n",
    "    liste_1.append(i)"
   ]
  },
  {
   "cell_type": "markdown",
   "metadata": {},
   "source": [
    "soru : 50 tane alt alta bir metin yazdiralim "
   ]
  },
  {
   "cell_type": "code",
   "execution_count": 31,
   "metadata": {},
   "outputs": [
    {
     "name": "stdout",
     "output_type": "stream",
     "text": [
      "1- Techpro\n",
      "2- Techpro\n",
      "3- Techpro\n",
      "4- Techpro\n",
      "5- Techpro\n",
      "6- Techpro\n",
      "7- Techpro\n",
      "8- Techpro\n",
      "9- Techpro\n",
      "10- Techpro\n",
      "11- Techpro\n",
      "12- Techpro\n",
      "13- Techpro\n",
      "14- Techpro\n",
      "15- Techpro\n",
      "16- Techpro\n",
      "17- Techpro\n",
      "18- Techpro\n",
      "19- Techpro\n",
      "20- Techpro\n",
      "21- Techpro\n",
      "22- Techpro\n",
      "23- Techpro\n",
      "24- Techpro\n",
      "25- Techpro\n",
      "26- Techpro\n",
      "27- Techpro\n",
      "28- Techpro\n",
      "29- Techpro\n",
      "30- Techpro\n",
      "31- Techpro\n",
      "32- Techpro\n",
      "33- Techpro\n",
      "34- Techpro\n",
      "35- Techpro\n",
      "36- Techpro\n",
      "37- Techpro\n",
      "38- Techpro\n",
      "39- Techpro\n",
      "40- Techpro\n",
      "41- Techpro\n",
      "42- Techpro\n",
      "43- Techpro\n",
      "44- Techpro\n",
      "45- Techpro\n",
      "46- Techpro\n",
      "47- Techpro\n",
      "48- Techpro\n",
      "49- Techpro\n",
      "50- Techpro\n"
     ]
    }
   ],
   "source": [
    "# range fonk.kullaniriz\n",
    "for i in range(1,51): # neden 51 yazdik cunku 50 tane dedik \n",
    "    print(f\"{i}- Techpro\")"
   ]
  },
  {
   "cell_type": "markdown",
   "metadata": {},
   "source": [
    "## carpim tablosu  yapma "
   ]
  },
  {
   "cell_type": "code",
   "execution_count": 38,
   "metadata": {},
   "outputs": [
    {
     "name": "stdout",
     "output_type": "stream",
     "text": [
      "6 x 1  = 6\n",
      "6 x 2  = 12\n",
      "6 x 3  = 18\n",
      "6 x 4  = 24\n",
      "6 x 5  = 30\n",
      "6 x 6  = 36\n",
      "6 x 7  = 42\n",
      "6 x 8  = 48\n",
      "6 x 9  = 54\n",
      "6 x 10 = 60\n"
     ]
    }
   ],
   "source": [
    "# kullanicidan bir sayi isteyecegiz\n",
    "number  = int(input(\"1 ile 9 arasinda sayi giriniz\"))\n",
    "\n",
    "if 1 <= 9:\n",
    "    for i in range(1,11):\n",
    "        print(f\"{number} x {i:<2} = {number * i}\")\n",
    "else:\n",
    "    print(\"1 ile 9 arasinda bir sayi girmediniz\")        "
   ]
  },
  {
   "cell_type": "markdown",
   "metadata": {},
   "source": [
    "sayi 1 ile 9 arasinda gelise nasil yapabiliriz "
   ]
  },
  {
   "cell_type": "code",
   "execution_count": null,
   "metadata": {},
   "outputs": [],
   "source": [
    "# calistirma.berak for dongusunu durdurur ,while sonsuza devam eder. \n",
    "while True: \n",
    "     \n",
    "    number  = int(input(\"1 ile 9 arasinda sayi giriniz\"))\n",
    "\n",
    "    if 1 <= 9:\n",
    "       for i in range(1,11):\n",
    "           print(f\"{number} x {i:<2} = {number * i}\")\n",
    "           break\n",
    "    \n",
    "    else:\n",
    "        print(\"1 ile 9 arasinda bir sayi girmediniz\")    "
   ]
  },
  {
   "cell_type": "markdown",
   "metadata": {},
   "source": [
    "soru : 1 den 50 ye kadar olan sayilarin toplamini bulan python programini  yaziniz"
   ]
  },
  {
   "cell_type": "code",
   "execution_count": 41,
   "metadata": {},
   "outputs": [
    {
     "data": {
      "text/plain": [
       "1275"
      ]
     },
     "execution_count": 41,
     "metadata": {},
     "output_type": "execute_result"
    }
   ],
   "source": [
    "sum(range(1,51))"
   ]
  },
  {
   "cell_type": "code",
   "execution_count": 5,
   "metadata": {},
   "outputs": [
    {
     "name": "stdout",
     "output_type": "stream",
     "text": [
      "1275\n"
     ]
    }
   ],
   "source": [
    "total = 0 \n",
    "for i in range(1,51):\n",
    "    total += i\n",
    "print(total )    "
   ]
  },
  {
   "cell_type": "code",
   "execution_count": 6,
   "metadata": {},
   "outputs": [
    {
     "ename": "NameError",
     "evalue": "name 'n' is not defined",
     "output_type": "error",
     "traceback": [
      "\u001b[1;31m---------------------------------------------------------------------------\u001b[0m",
      "\u001b[1;31mNameError\u001b[0m                                 Traceback (most recent call last)",
      "\u001b[1;32md:\\BATCH223-DATA-SCIENT\\python_batch223\\day14_09_10_2023_For_Loops\\session_15_for_loop.ipynb Cell 35\u001b[0m line \u001b[0;36m1\n\u001b[1;32m----> <a href='vscode-notebook-cell:/d%3A/BATCH223-DATA-SCIENT/python_batch223/day14_09_10_2023_For_Loops/session_15_for_loop.ipynb#X46sZmlsZQ%3D%3D?line=0'>1</a>\u001b[0m (n \u001b[39m*\u001b[39m(n \u001b[39m+\u001b[39m\u001b[39m1\u001b[39m)\u001b[39m/\u001b[39m \u001b[39m2\u001b[39m)\n",
      "\u001b[1;31mNameError\u001b[0m: name 'n' is not defined"
     ]
    }
   ],
   "source": [
    "(n *(n +1)/ 2)\n"
   ]
  },
  {
   "cell_type": "code",
   "execution_count": 7,
   "metadata": {},
   "outputs": [
    {
     "data": {
      "text/plain": [
       "1275.0"
      ]
     },
     "execution_count": 7,
     "metadata": {},
     "output_type": "execute_result"
    }
   ],
   "source": [
    "(50 * (50 + 1))/2"
   ]
  },
  {
   "cell_type": "code",
   "execution_count": 8,
   "metadata": {},
   "outputs": [
    {
     "data": {
      "text/plain": [
       "15"
      ]
     },
     "execution_count": 8,
     "metadata": {},
     "output_type": "execute_result"
    }
   ],
   "source": [
    "sum([1,2,3,4,5])"
   ]
  },
  {
   "cell_type": "code",
   "execution_count": 9,
   "metadata": {},
   "outputs": [
    {
     "data": {
      "text/plain": [
       "115"
      ]
     },
     "execution_count": 9,
     "metadata": {},
     "output_type": "execute_result"
    }
   ],
   "source": [
    "sum([1,2,3,4,5],100) # 100 un uzerindekileri topla"
   ]
  },
  {
   "cell_type": "markdown",
   "metadata": {},
   "source": [
    "soru : 1 ile 50 arasindaki cift sayilarin toplamini python koduyla yaziniz"
   ]
  },
  {
   "cell_type": "code",
   "execution_count": 10,
   "metadata": {},
   "outputs": [
    {
     "data": {
      "text/plain": [
       "650"
      ]
     },
     "execution_count": 10,
     "metadata": {},
     "output_type": "execute_result"
    }
   ],
   "source": [
    "sum(range(2,51,2)) # cift sayilarin toplami"
   ]
  },
  {
   "cell_type": "code",
   "execution_count": 11,
   "metadata": {},
   "outputs": [
    {
     "data": {
      "text/plain": [
       "625"
      ]
     },
     "execution_count": 11,
     "metadata": {},
     "output_type": "execute_result"
    }
   ],
   "source": [
    "sum(range(1,51,2)) # tek sayilarin toplami"
   ]
  },
  {
   "cell_type": "code",
   "execution_count": 12,
   "metadata": {},
   "outputs": [
    {
     "name": "stdout",
     "output_type": "stream",
     "text": [
      "0\n",
      "2\n",
      "2\n",
      "6\n",
      "6\n",
      "12\n",
      "12\n",
      "20\n",
      "20\n",
      "30\n",
      "30\n",
      "42\n",
      "42\n",
      "56\n",
      "56\n",
      "72\n",
      "72\n",
      "90\n",
      "90\n",
      "110\n",
      "110\n",
      "132\n",
      "132\n",
      "156\n",
      "156\n",
      "182\n",
      "182\n",
      "210\n",
      "210\n",
      "240\n",
      "240\n",
      "272\n",
      "272\n",
      "306\n",
      "306\n",
      "342\n",
      "342\n",
      "380\n",
      "380\n",
      "420\n",
      "420\n",
      "462\n",
      "462\n",
      "506\n",
      "506\n",
      "552\n",
      "552\n",
      "600\n",
      "600\n",
      "650\n"
     ]
    }
   ],
   "source": [
    "ciftler_toplami = 0 \n",
    "for i in range(1,51):\n",
    "    if i  % 2 == 0:\n",
    "        ciftler_toplami += i\n",
    "    print(ciftler_toplami)    "
   ]
  }
 ],
 "metadata": {
  "kernelspec": {
   "display_name": "Python 3",
   "language": "python",
   "name": "python3"
  },
  "language_info": {
   "codemirror_mode": {
    "name": "ipython",
    "version": 3
   },
   "file_extension": ".py",
   "mimetype": "text/x-python",
   "name": "python",
   "nbconvert_exporter": "python",
   "pygments_lexer": "ipython3",
   "version": "3.11.6"
  }
 },
 "nbformat": 4,
 "nbformat_minor": 2
}
