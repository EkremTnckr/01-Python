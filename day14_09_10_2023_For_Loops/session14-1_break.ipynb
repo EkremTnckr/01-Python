{
 "cells": [
  {
   "cell_type": "markdown",
   "metadata": {},
   "source": [
    " ## break && continue"
   ]
  },
  {
   "cell_type": "code",
   "execution_count": 1,
   "metadata": {},
   "outputs": [
    {
     "data": {
      "text/plain": [
       "[1, 2, 3, 4, 5]"
      ]
     },
     "execution_count": 1,
     "metadata": {},
     "output_type": "execute_result"
    }
   ],
   "source": [
    "liste_2 = [1,2,3,4,5]\n",
    "liste_2"
   ]
  },
  {
   "cell_type": "markdown",
   "metadata": {},
   "source": [
    "listede 3 un kati bir sa\n",
    "yi oldygunda dongu dursun"
   ]
  },
  {
   "cell_type": "code",
   "execution_count": 2,
   "metadata": {},
   "outputs": [
    {
     "name": "stdout",
     "output_type": "stream",
     "text": [
      "1\n",
      "4\n"
     ]
    }
   ],
   "source": [
    "for i in liste_2:\n",
    "    \n",
    "    if i % 3 == 0:\n",
    "        break        # sart saglanirsa donguyu keser\n",
    "    else:\n",
    "        print(i ** 2)"
   ]
  },
  {
   "cell_type": "markdown",
   "metadata": {},
   "source": [
    "soru : 1 den 9 a kadar olan (9 dahil) sayilarin toplamini bulun(5 ve 5 in katlari haric)"
   ]
  },
  {
   "cell_type": "code",
   "execution_count": 4,
   "metadata": {},
   "outputs": [
    {
     "name": "stdout",
     "output_type": "stream",
     "text": [
      "45\n"
     ]
    }
   ],
   "source": [
    "toplam = 0\n",
    "for i in range(1,10):\n",
    "    toplam += i\n",
    "print(toplam)"
   ]
  },
  {
   "cell_type": "code",
   "execution_count": 5,
   "metadata": {},
   "outputs": [
    {
     "name": "stdout",
     "output_type": "stream",
     "text": [
      "40\n"
     ]
    }
   ],
   "source": [
    "toplam = 0\n",
    "for i in range(1,10):\n",
    "    if i % 5 == 0:\n",
    "        continue     #   sart saglanmazsa dongunun basina dondurur \n",
    "    \n",
    "    toplam += i \n",
    "print(toplam)    "
   ]
  },
  {
   "cell_type": "markdown",
   "metadata": {},
   "source": [
    "soru : <br>\n",
    "sayilar_listesi =[1,15,2,36,5,89,45,62,52,71,30,56,45,95,61,48]  \n",
    "listede gecen elemanlari cift ve tek sayilar listesi olarak yaziniz."
   ]
  },
  {
   "cell_type": "code",
   "execution_count": 6,
   "metadata": {},
   "outputs": [
    {
     "data": {
      "text/plain": [
       "[1, 15, 2, 36, 5, 89, 45, 62, 52, 71, 30, 56, 45, 95, 61, 48]"
      ]
     },
     "execution_count": 6,
     "metadata": {},
     "output_type": "execute_result"
    }
   ],
   "source": [
    "sayilar_listesi =[1,15,2,36,5,89,45,62,52,71,30,56,45,95,61,48]  \n",
    "sayilar_listesi"
   ]
  },
  {
   "cell_type": "code",
   "execution_count": 7,
   "metadata": {},
   "outputs": [
    {
     "name": "stdout",
     "output_type": "stream",
     "text": [
      "tek sayilar:[1, 15, 5, 89, 45, 71, 45, 95, 61]\n",
      "cift sayilar:[2, 36, 62, 52, 30, 56, 48]\n"
     ]
    }
   ],
   "source": [
    "sayilar_listesi =[1,15,2,36,5,89,45,62,52,71,30,56,45,95,61,48]  \n",
    "\n",
    "odds =[]\n",
    "evens =[]\n",
    "\n",
    "for i in sayilar_listesi:\n",
    "    if i  % 2 :\n",
    "        odds.append(i)\n",
    "    else:\n",
    "        evens.append(i)\n",
    "print(f\"tek sayilar:{odds}\")\n",
    "print(f\"cift sayilar:{evens}\")\n",
    "        "
   ]
  },
  {
   "cell_type": "markdown",
   "metadata": {},
   "source": [
    "Soru:<br>\n",
    "Bir markete gittiniz.Markette her urunun bir kod numarasi var.<br>\n",
    "1:Elma<br>\n",
    "2:Portakal<br>\n",
    "3:Cilek<br>\n",
    "4:Yumurta<br>\n",
    "5:Havuc<br>\n",
    "6:Armut<br>\n",
    "Kullaniciya almak istedigi urunu sorunuz ve kod numarasi ile secim yaptiriniz<br>\n",
    "Cikis icin \"q\" opsiyonunu sunun.<br>\n",
    "Kullanicinin her urun secimi sonrasi \".....\"elma sepete eklendi\"seklinde mesaj veriniz.<br>\n",
    "Kullanici utun almaya devam ettikce urunleri bir listede toplayiniz.<br>\n",
    "Almaktan vazgectigi durumlarda tesekkur edip, aldigitoplam urunleri cikti veren bir kod yaziniz.<br>\n",
    "Cikti:\n",
    "Tesekkur ederiz.<br>\n",
    "Sepetinizde bulunan urunler : elma,armut,yumurta... vs \n"
   ]
  },
  {
   "cell_type": "code",
   "execution_count": 3,
   "metadata": {},
   "outputs": [
    {
     "name": "stdout",
     "output_type": "stream",
     "text": [
      " \n",
      "    1>>>>Elma   \n",
      "    2>>>>Portakal\n",
      "    3>>>>Cilek \n",
      "    4>>>>Yumurta  \n",
      "    5>>>>Havuc \n",
      "    6>>>>Armut \n",
      "         \n",
      "      \n",
      "Sepete Portakal eklendi\n",
      "Sepete Cilek eklendi\n",
      "Bizi tercih ettiginiz icin tesekkur ederiz\n",
      "Almis oldugunuz urunler['Portakal', 'Cilek']\n"
     ]
    }
   ],
   "source": [
    "urunler ={1:\"Elma\", 2:\"Portakal\", 3:\"Cilek\", 4:\"Yumurta\", 5:\"Havuc\", 6:\"Armut\"}\n",
    "print(\"\"\" \n",
    "    1>>>>Elma   \n",
    "    2>>>>Portakal\n",
    "    3>>>>Cilek \n",
    "    4>>>>Yumurta  \n",
    "    5>>>>Havuc \n",
    "    6>>>>Armut \n",
    "         \n",
    "      \"\"\")\n",
    "sepet =[]\n",
    "while True:\n",
    "    x = input(\"Almak istediginiz urunun kodunu giriniz.Sepete daha fazla urun istemediginizde 'q' tusuna basiniz\")\n",
    "    if x != 'q':\n",
    "        sepet.append(urunler[int(x)])\n",
    "        print(f\"Sepete {sepet[-1]} eklendi\")\n",
    "    elif x == 'q':\n",
    "        print(\"Bizi tercih ettiginiz icin tesekkur ederiz\")\n",
    "        print(f\"Almis oldugunuz urunler{sepet}\")\n",
    "        break\n",
    "    \n"
   ]
  }
 ],
 "metadata": {
  "kernelspec": {
   "display_name": "Python 3",
   "language": "python",
   "name": "python3"
  },
  "language_info": {
   "codemirror_mode": {
    "name": "ipython",
    "version": 3
   },
   "file_extension": ".py",
   "mimetype": "text/x-python",
   "name": "python",
   "nbconvert_exporter": "python",
   "pygments_lexer": "ipython3",
   "version": "3.11.6"
  }
 },
 "nbformat": 4,
 "nbformat_minor": 2
}
