{
 "cells": [
  {
   "cell_type": "markdown",
   "metadata": {},
   "source": [
    "# LOOPS\n",
    " while"
   ]
  },
  {
   "cell_type": "markdown",
   "metadata": {},
   "source": [
    "while---> \n",
    "Elimizde bir islem var.Bu isleme  devam edip istiyor muyuz istemiyor muyuz?<br>\n",
    "Bunun sarta bagli oldugu durumlarda \"while' kullanilir.Ancak;<br>\n",
    "yaptigimiz islemin bizim verdigimiz olcude devam etmesini istiyorsak for dongusu kullanilir.<br>\n",
    "Bir islemin bir kosula bagli olarak donup donmemesini istiyorsak \"while: kullanilir.<br>\n"
   ]
  },
  {
   "cell_type": "markdown",
   "metadata": {},
   "source": [
    "## while"
   ]
  },
  {
   "cell_type": "code",
   "execution_count": 1,
   "metadata": {},
   "outputs": [
    {
     "name": "stdout",
     "output_type": "stream",
     "text": [
      "bu dongu kosul saglandikca calisir\n",
      "bu dongu kosul saglandikca calisir\n",
      "bu dongu kosul saglandikca calisir\n",
      "bu dongu kosul saglandikca calisir\n",
      "bu dongu kosul saglandikca calisir\n"
     ]
    }
   ],
   "source": [
    "x = 5 \n",
    "while x < 10:\n",
    "    print(\"bu dongu kosul saglandikca calisir\")\n",
    "    x += 1    # her seferinde x'e 1 ekle ve esitle"
   ]
  },
  {
   "cell_type": "code",
   "execution_count": 2,
   "metadata": {},
   "outputs": [
    {
     "data": {
      "text/plain": [
       "10"
      ]
     },
     "execution_count": 2,
     "metadata": {},
     "output_type": "execute_result"
    }
   ],
   "source": [
    "x"
   ]
  },
  {
   "cell_type": "code",
   "execution_count": null,
   "metadata": {},
   "outputs": [],
   "source": [
    "x = 1\n",
    "while x < 10:\n",
    "    print(x)\n",
    "x += 1        # islem while indet i cinde degil. "
   ]
  },
  {
   "cell_type": "markdown",
   "metadata": {},
   "source": [
    "1 den 10 a kadar olan sayilari alt alta  \"while\"dongusuyle yazdiralim"
   ]
  },
  {
   "cell_type": "code",
   "execution_count": 4,
   "metadata": {},
   "outputs": [
    {
     "name": "stdout",
     "output_type": "stream",
     "text": [
      "1\n",
      "2\n",
      "3\n",
      "4\n",
      "5\n",
      "6\n",
      "7\n",
      "8\n",
      "9\n"
     ]
    }
   ],
   "source": [
    "x = 0\n",
    "while x < 9 :    \n",
    "    x += 1 \n",
    "    print(x)"
   ]
  },
  {
   "cell_type": "code",
   "execution_count": 5,
   "metadata": {},
   "outputs": [],
   "source": [
    "while False:\n",
    "    print(\"sanki calismayacak\")\n",
    "   "
   ]
  },
  {
   "cell_type": "code",
   "execution_count": 6,
   "metadata": {},
   "outputs": [],
   "source": [
    "while 0:\n",
    "    print(\"bu da calismaz\")\n",
    "                           # while sadece True ile calisir. "
   ]
  },
  {
   "cell_type": "code",
   "execution_count": null,
   "metadata": {},
   "outputs": [],
   "source": [
    "# calisirma sonsuz dongu.False cevirecek birsey yapilmazsa sonsuz dongu olur.\n",
    "while True:\n",
    "    print(\"sonsuza gider\")"
   ]
  },
  {
   "cell_type": "code",
   "execution_count": null,
   "metadata": {},
   "outputs": [],
   "source": [
    "# calistirma  while dongusu icerisnde y  \n",
    "y = True\n",
    "while y :\n",
    "    print(\"while dongusu contion False olana kadar calisir\")\n",
    "y = False    "
   ]
  },
  {
   "cell_type": "code",
   "execution_count": 8,
   "metadata": {},
   "outputs": [
    {
     "name": "stdout",
     "output_type": "stream",
     "text": [
      "1\n",
      "dongu bitt\n",
      "2\n",
      "dongu bitt\n",
      "3\n",
      "dongu bitt\n",
      "4\n",
      "dongu bitt\n",
      "5\n",
      "dongu bitt\n"
     ]
    }
   ],
   "source": [
    "x =1\n",
    "\n",
    "while x < 6:\n",
    "    print(x)\n",
    "    x += 1\n",
    "    print(\"dongu bitt\")  # dongu icersine yazilirsa soylene kadar yazdirir  "
   ]
  },
  {
   "cell_type": "markdown",
   "metadata": {},
   "source": [
    "1 den 6 a kadar olan sayilarin karesini yazdiran donguyu yaziniz"
   ]
  },
  {
   "cell_type": "code",
   "execution_count": 2,
   "metadata": {},
   "outputs": [
    {
     "name": "stdout",
     "output_type": "stream",
     "text": [
      "1\n",
      "4\n",
      "9\n",
      "16\n",
      "25\n"
     ]
    }
   ],
   "source": [
    "x =1 \n",
    "while x <= 5:\n",
    "    print(x ** 2)\n",
    "    x += 1"
   ]
  },
  {
   "cell_type": "markdown",
   "metadata": {},
   "source": [
    "soru : Kullanicidan  1 ile 50 arasinda  bir  sayi isteyin.Sayi 50 den kucukse  dongu dursun,  50 den buyukse  50 den kucuk bir sayi girene kadar donduyu devam ettirsin"
   ]
  },
  {
   "cell_type": "code",
   "execution_count": 4,
   "metadata": {},
   "outputs": [
    {
     "name": "stdout",
     "output_type": "stream",
     "text": [
      "dogru sayiyi giremediniz\n",
      "dogru sayiyi giremediniz\n"
     ]
    }
   ],
   "source": [
    "x = int(input(\"bir sayi  1 ile 100  arasinda giriniz\"))\n",
    "\n",
    "while x > 50 :\n",
    "    x = int(input(\"bir sayi giriniz\"))\n",
    "    print(\"dogru sayiyi giremediniz\")\n"
   ]
  },
  {
   "cell_type": "markdown",
   "metadata": {},
   "source": [
    "bankamatik  sifre dogrulama denemesi kodlarini yazaniz<br>\n",
    "3 defa hatali girme secenegi var"
   ]
  },
  {
   "cell_type": "code",
   "execution_count": 13,
   "metadata": {},
   "outputs": [
    {
     "name": "stdout",
     "output_type": "stream",
     "text": [
      "yanlis sifre,sifreyi tekrar giriniz\n",
      "yanlis sifre,sifreyi tekrar giriniz\n",
      "3 defa yanlis girdiginiz icin kart bloke oldu \n"
     ]
    }
   ],
   "source": [
    "# buradak icozom basit bir cozumdur.Bu kod daha da kisa ve oz yazilablilir.add()\n",
    "# Anlasilmasi acisindan boyle bir yol izlendi.\n",
    "kayitli_sifre = \"1234\"\n",
    "\n",
    "count = 0\n",
    "    \n",
    "x =input(\"lutfen sifreyi giriniz\")\n",
    "\n",
    "y = True \n",
    "while y :\n",
    "    count += 1 \n",
    "    kullanici_girisi =input(\"lutfen sirenizi giriniz\")\n",
    "    \n",
    "    if kayitli_sifre == kullanici_girisi:\n",
    "        \n",
    "       print(\"isleme yonlendirildi\")\n",
    "       \n",
    "       y =False\n",
    "       \n",
    "    \n",
    "        \n",
    "    if count == 3:\n",
    "        y =False \n",
    "        print(\"3 defa yanlis girdiginiz icin kart bloke oldu \")\n",
    "    else:\n",
    "        print(\"yanlis sifre,sifreyi tekrar giriniz\")\n",
    "        \n",
    "        \n"
   ]
  },
  {
   "cell_type": "markdown",
   "metadata": {},
   "source": [
    "Soru : Listenin elemanlarinin karesi donduren kodu \"while\" kullanarak yaziniz.<br>\n",
    "sayilar_listesi =[1,3,6,8,11,15]"
   ]
  },
  {
   "cell_type": "code",
   "execution_count": 15,
   "metadata": {},
   "outputs": [
    {
     "name": "stdout",
     "output_type": "stream",
     "text": [
      "1\n",
      "9\n",
      "36\n",
      "64\n",
      "121\n",
      "225\n"
     ]
    }
   ],
   "source": [
    "sayilar_listesi = [1,3,6,8,11,15]\n",
    "\n",
    "x = 0 \n",
    "while x < 6 :\n",
    "    \n",
    "    print(sayilar_listesi[x] ** 2)\n",
    "    \n",
    "    \n",
    "    \n",
    "    \n",
    "    x += 1"
   ]
  },
  {
   "cell_type": "code",
   "execution_count": 16,
   "metadata": {},
   "outputs": [
    {
     "name": "stdout",
     "output_type": "stream",
     "text": [
      "1\n",
      "9\n",
      "36\n",
      "64\n",
      "121\n",
      "225\n"
     ]
    }
   ],
   "source": [
    "# listenin eleman sayisini bilmeseydik \n",
    "\n",
    "x = 0 \n",
    "while x < len(sayilar_listesi) : \n",
    "    \n",
    "    print(sayilar_listesi[x] ** 2)\n",
    "    \n",
    "    \n",
    "    \n",
    "    \n",
    "    x += 1\n"
   ]
  },
  {
   "cell_type": "markdown",
   "metadata": {},
   "source": [
    "SORU: \n",
    "liste elemanlarinin karesini liste icinde donduren kodu \"while\" ile yaziniz"
   ]
  },
  {
   "cell_type": "code",
   "execution_count": 3,
   "metadata": {},
   "outputs": [
    {
     "name": "stdout",
     "output_type": "stream",
     "text": [
      "[1, 9, 36, 64, 121, 225]\n"
     ]
    }
   ],
   "source": [
    "sayilar_listesi = [1,3,6,8,11,15]\n",
    "\n",
    "x = 0\n",
    "result_list = []\n",
    "\n",
    "while x < len(sayilar_listesi):\n",
    "    \n",
    "    result_list.append(sayilar_listesi[x] ** 2)\n",
    "    \n",
    "    x += 1 \n",
    "print(result_list)\n",
    "    \n",
    "    "
   ]
  }
 ],
 "metadata": {
  "kernelspec": {
   "display_name": "Python 3",
   "language": "python",
   "name": "python3"
  },
  "language_info": {
   "codemirror_mode": {
    "name": "ipython",
    "version": 3
   },
   "file_extension": ".py",
   "mimetype": "text/x-python",
   "name": "python",
   "nbconvert_exporter": "python",
   "pygments_lexer": "ipython3",
   "version": "3.11.6"
  }
 },
 "nbformat": 4,
 "nbformat_minor": 2
}
