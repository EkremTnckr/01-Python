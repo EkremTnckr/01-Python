{
 "cells": [
  {
   "cell_type": "markdown",
   "metadata": {},
   "source": [
    "    * 1991 yilinda Guido Van Rossom tarafindan gelistirildi.\n",
    "\n",
    "                        -Neden Python\n",
    "\n",
    "    -Yenilikci esnek ve kuvvetli\n",
    "\n",
    "    -ogrenilmesi cok kolay\n",
    "\n",
    "    -Acik kaynak kodlu\n",
    "\n",
    "    -Her ortamda calismaya musait \n",
    "\n",
    "       *high level\n",
    "\n",
    "       *interpreted\n",
    "\n",
    "       *Simple\n",
    "\n",
    "       *Object-oriented\n",
    "\n",
    "       *Open Source\n",
    "\n",
    "       *Expressive language\n",
    "\n",
    "       *Large Standart Library\n",
    "       \n",
    "       * Gui Programing\n",
    "        \n",
    "\n"
   ]
  },
  {
   "cell_type": "markdown",
   "metadata": {},
   "source": [
    "markdown satiri kod satiri degildi.Bu satirlara not yazabiliriz."
   ]
  },
  {
   "cell_type": "code",
   "execution_count": 1,
   "metadata": {},
   "outputs": [
    {
     "name": "stdout",
     "output_type": "stream",
     "text": [
      "Hello World\n"
     ]
    }
   ],
   "source": [
    " # print bir fonksiyondur.Fonksiyonlar aldiklari parametreye gore is yaparlar.\n",
    " # ekranda cikti almayi saglar.\n",
    "\n",
    "print (\"Hello World\")"
   ]
  },
  {
   "cell_type": "markdown",
   "metadata": {},
   "source": [
    "##  PYTHON NE YAPILABILIR?\n",
    "1-Python,web uygulamari olusturmak icin bir sunucuda kullanilabilir.\n",
    "2-Python,is akislari olusturmak icin yazlimla birlikte kullanilabilir.\n",
    "3-Python,veritabi sistemine baglanabilir,dosya okuytabilir ve degistirabilir.\n",
    "4-Python büyük verileri islemek ve karmasık matematik  islemlerini  gerceklestirmek icin kullanilabilr.\n",
    "5-Python hızlı prototip olusturma veya üretime hazır yazılım gelistirme  icin kullanilablilr.\n",
    "\n",
    "NEDEN PYTHON\n",
    "1-Tum platformlarda kullanilabilir.(Windows-Mac-Linux vb..\n",
    "2-Basit bir sozdizimi vardir.Developer larin diger yazilik dillerine gore daha az satirla  program yazmasina olanak tanir.\n",
    "4-Python da kod yaz\\ildigi anda calilsir.Bu da hizli olmasini saglar.\n",
    "5-Python nesne yonelimli veya islevsel sekilde ele alinabilir.\n",
    "\n"
   ]
  },
  {
   "cell_type": "markdown",
   "metadata": {},
   "source": [
    "## PYTHON INDENTION(GIRINTI)\n",
    "\n",
    "Indention--> kod satirinin basindaki bosluklari yani girintiyi ifade eder.\n",
    "En yaygin indention alani 4 bosluk  tur."
   ]
  },
  {
   "cell_type": "code",
   "execution_count": 1,
   "metadata": {},
   "outputs": [
    {
     "name": "stdout",
     "output_type": "stream",
     "text": [
      "7 5 ten buyuktur\n"
     ]
    }
   ],
   "source": [
    "if 7 > 5 :\n",
    "    print(\"7 5 ten buyuktur\")\n",
    "    \n",
    "    # burada girinti yani indention atlanirsa  python hata verir."
   ]
  },
  {
   "cell_type": "markdown",
   "metadata": {},
   "source": [
    " ### PYTHON COMMENTS (Python Yorumlari )\n",
    "-Yorumlar python kodunu aciklamak icin kullanilir.\n",
    "\n",
    "-Kodu daha okunakli hale getirmek icin comments kullanilablilr.\n",
    "\n",
    "-Comments, kodu test ederken yurutmeyi onlemek icin kullanilabilir.\n",
    "\n",
    "\n",
    "### Comments Nasil Olusturulur ?\n",
    " 1-Yorumlar # isareti ile baslar ve python bunu yok sayar.\n",
    "\n",
    "    # Bu bir yorum satiridir\n",
    "      print(\"Hello World\"\n",
    "\n",
    " 2- Yorumlar bir satirin sonuna eklenebilir ve python satirin geri kalanini yok sayar.\n",
    "\n",
    "  print(\"Hello python\")#Bu bir yorum satiridir\n",
    "\n",
    "  3- Comment, kodu aciklayan bir metin olmayabilir.Ayni zamanda commment python in \n",
    "\n",
    "  kodu yurutmesini onlemek icin de kullanilabilir.\n",
    "  \n",
    "  #print(\"Hello python\")\n",
    "  print(  \"selam arkadaslar\")\n",
    "\n",
    "4-Multiline Comments (Cok Satirli Yorumlar)\n",
    "   -Python in birden fazla satir yorum icin bir syntax i yoktur.\n",
    "\n",
    "   Birden fazla satira yorum icin  her bir satira  \" # \" isaretini ekleyebiliriz.\n",
    "\n",
    "   Veya cok satirli bir dize de kullanilabilir.\n",
    "\n",
    "    Bunun icin  uclu tirmak  kullanilir. \"\"\"  .......\"\"\" seklinde\n",
    "    \"\"\"\n",
    "        Bu bir yorum satiridir.Birden fazla satir icerir.\n",
    "\n",
    "        Bunun icin python da uclu tirnak isareti kullanilr\n",
    "        \"\"\"\n",
    "        print(\"Hello Python\" )\n",
    "        "
   ]
  },
  {
   "cell_type": "markdown",
   "metadata": {},
   "source": [
    "### print() fonksiyonu\n",
    "\n",
    "print() fonksiyonun da parantez ac-kapa yapilmazsa fonksiyonu cagiramayiz.\n",
    "\n",
    "python kodlari yukaridan asagiya ve soldan saga dogru okur.\n",
    "\n"
   ]
  },
  {
   "cell_type": "code",
   "execution_count": 3,
   "metadata": {},
   "outputs": [
    {
     "name": "stdout",
     "output_type": "stream",
     "text": [
      "\n"
     ]
    }
   ],
   "source": [
    "print()"
   ]
  },
  {
   "cell_type": "code",
   "execution_count": 4,
   "metadata": {},
   "outputs": [
    {
     "name": "stdout",
     "output_type": "stream",
     "text": [
      "Hello World\n",
      "Merhaba Dunya\n"
     ]
    }
   ],
   "source": [
    "print(\"Hello World\")\n",
    "print(\"Merhaba Dunya\")\n",
    "\n",
    "## python kodlari yukaridan asagiya ve soldan saga dogru okur."
   ]
  },
  {
   "cell_type": "markdown",
   "metadata": {},
   "source": [
    "  # pep8 Kurallari  \n",
    "\n",
    "  ## Python` da Kod Standatlari"
   ]
  },
  {
   "cell_type": "markdown",
   "metadata": {},
   "source": [
    "PEP-8 kodunuzu daha düzenli ve okunabilir hale getirmek için kullanabileceğiniz bazı\n",
    "\n",
    " önemli noktaları sunar. Python'un yaratıcısı Guido Van Rossum'un dediği gibi:\n",
    "\n",
    "Kod yazıldığından çok daha sık okunur.\n",
    "\n",
    "1- Indentation --Girinti\n",
    "\n",
    "Python'da programlama yaparken girintileme kesinlikle kullanacağınız bir şeydir.\n",
    "\n",
    "Ancak sözdizimi hatalarına yol açabileceğinden dikkatli olmalısınız. Bu nedenle \n",
    "\n",
    "girinti için dört boşluk kullanılmasıdır.\n",
    "\n",
    "                  if True:\n",
    "                      print(\"If works\")\n",
    "\n",
    "\n",
    "2-Maximum Line Length (Maximun Hat Uzunlugu)\n",
    "\n",
    "Genel olarak Python kodunuzda 79 karakterlik bir satır uzunluğunu hedeflemek iyidir.\n",
    "\n",
    "Bu hedef rakamına uymanın birçok avantajı var. Bunlardan birkaçı şunlardır:\n",
    "\n",
    "Karşılaştırma yapmak için dosyaları yan yana açmak mümkündür;\n",
    "\n",
    "İfadenin tamamını yatay olarak kaydırmadan görüntüleyebilirsiniz; bu, kodun daha iyi \n",
    "\n",
    "okunabilirliğine ve anlaşılmasına katkıda bulunur.\n",
    "\n",
    "Yorumlar 72 karakter satır uzunluğunda olmalıdır \n",
    "\n",
    "3-Blank Lines (Bos Satirlar)\n",
    "\n",
    "Python betiklerinde üst düzey işlev ve sınıflar iki boş satırla ayrılır.\n",
    "\n",
    "Sınıfların içindeki yöntem tanımları bir boş satırla ayrılmalıdır  \n",
    "\n",
    "ornek:\n",
    "\n",
    "import unittest\n",
    "\n",
    "class SwapTestSuite(unittest.TestCase):\n",
    "    \"\"\"\n",
    "        Swap Operation Test Case\n",
    "    \"\"\"\n",
    "    def setUp(self):\n",
    "        self.a = 1\n",
    "        self.b = 2\n",
    "\n",
    "    def test_swap_operations(self):\n",
    "        instance = Swap(self.a,self.b)\n",
    "        value1, value2 =instance.get_swap_values()\n",
    "        self.assertEqual(self.a, value2)\n",
    "        self.assertEqual(self.b, value1)\n",
    "\n",
    "\n",
    "class OddOrEvenTestSuite(unittest.TestCase):\n",
    "    \"\"\"\n",
    "        This is the Odd or Even Test case Suite\n",
    "    \"\"\"\n",
    "    def setUp(self):\n",
    "        self.value1 = 1\n",
    "        self.value2 = 2\n",
    "\n",
    "    def test_odd_even_operations(self):\n",
    "        instance1 = OddOrEven(self.value1)\n",
    "        instance2 = OddOrEven(self.value2)\n",
    "        message1 = instance1.get_odd_or_even()\n",
    "        message2 = instance2.get_odd_or_even()\n",
    "        self.assertEqual(message1, 'Odd')\n",
    "        self.assertEqual(message2, 'Even')\n",
    "\n",
    "Sınıflar  SwapTestSuiteve sınıfları iki boş satırla ayrılırken, ve \n",
    "\n",
    "OddOrEvenTestSuite gibi yöntem tanımlarında onları ayırmak için yalnızca bir boş \n",
    "\n",
    "satır bulunur. Kod başarıyla yürütülecek, ancak birim testini çalıştırmak için \n",
    "\n",
    "gereken kod eksik olduğundan herhangi bir çıktı oluşturmayacak    \n",
    "\n",
    "\n",
    "4-Source File Encoding (Kaynak Dosya Kodlamasi)\n",
    "\n",
    "\n",
    "\n",
    "5-Imports \n",
    "\n",
    "Kütüphaneleri ve/veya modülleri içe aktarmak, veri bilimi için Python ile çalışırken \n",
    "\n",
    "sıklıkla yapacağınız bir şeydir. Zaten bildiğiniz gibi, kütüphaneleri her zaman \n",
    "\n",
    "betiğinizin başlangıcında içe aktarmalısınız.\n",
    "\n",
    "\n",
    "6- Absolute and Relative Imports\n",
    "\n",
    "Genel olarak, daha fazla okunabilirlik sağladığı için Python'da mutlak içe aktarma \n",
    "\n",
    "tercih edilir. Ancak uygulamanız karmaşıklaştıkça göreceli içe aktarmaları da \n",
    "\n",
    "kullanmaya devam edebilirsiniz. \n",
    "\n",
    "absolute import  işlevin veya sınıfın ile ayrılmış mutlak yolunu kullanan bir içe \n",
    "\n",
    "aktarmadır .. Örneğin,\n",
    "\n",
    "  import sklearn.linear_model.LogisticRegression \n",
    "\n",
    "\n",
    "relative import   Python dosyanızın bulunduğu geçerli konuma göre olan bir içe  \n",
    "\n",
    "aktarmadır. Proje yapınız büyüyorsa bu tür içe aktarmayı kullanabilirsiniz çünkü bu,\n",
    "\n",
    "projenizi daha okunaklı hale getirecektir. \n",
    "\n",
    "7- Wildcard Imports \n",
    "\n",
    "wildcard (joker) karakterlerin içe aktarılmasından kaçınmaya çalışmalısınız.\n",
    "\n",
    "Cünkü bunlar okunabilirliği artırmaz; Modülünüzden hangi sınıfları, yöntemleri veya \n",
    "\n",
    "değişkenleri kullandığınıza dair hiçbir görüşünüz yok, örneğin:\n",
    "\n",
    "from scikit import *\n",
    "\n",
    "\n",
    "8-Comments (Yorumlar)\n",
    "\n",
    "Yorumlar Python'da kod içi belgeler için kullanılır. Kodun anlaşılmasına katkıda \n",
    "\n",
    "bulunurlar. Kendi modülünüz için yorumlar ve belge dizeleri gibi belgeler oluşturmak \n",
    "\n",
    "için kullanabileceğiniz birçok araç vardır. Yorumlar daha ayrıntılı olmalıdır, \n",
    "\n",
    "böylece birisi kodu okuduğunda, kişi kodu ve kodun diğer parçalarıyla nasıl \n",
    "\n",
    "kullanıldığını doğru şekilde anlayabilir.\n",
    "\n",
    "Yorumlar \" # \" sembolüyle başlar . Hashtag'den sonra yazılan hiçbir şey ide tarafından yürütülmez. Örneğin, aşağıdaki kod parçası yalnızca geri verecektir \"This is a Python comment\".\n",
    "\n",
    "    # This is a Python single line comment\n",
    "print(\"This is a Python comment\")\n",
    "\n",
    "3 cesit comment vardir \n",
    "   \n",
    "   1-Daha karmaşık veya başkalarının aşina olmadığı kodları açıklamak için blok \n",
    "   \n",
    "   yorumları kullanırsınız. Bunlar genellikle daha uzun biçimli yorumlardır ve \n",
    "   \n",
    "   aşağıdaki kodun bir kısmı veya tamamı için geçerlidir. Blok yorumları kodla aynı \n",
    "   \n",
    "   düzeyde girintilidir. Blok yorumunun her satırı hashtag # ve  tek bir boşlukla \n",
    "   \n",
    "   başlar. Birden fazla paragraf kullanmanız gerekiyorsa, bunlar tek bir satır içeren \n",
    "    # bir satırla ayrılmalıdır.\n",
    "\n",
    "       if Gram is None or Gram is False:\n",
    "        Gram = None\n",
    "        if copy_X:\n",
    "            # force copy. setting the array to be fortran-ordered\n",
    "            # speeds up the calculation of the (partial) Gram matrix\n",
    "            # and allows to easily swap columns\n",
    "            X = X.copy('F')\n",
    "\n",
    "    2- Kodunuzun bazı bölümlerini açıklamanız gerektiğinde etkili olabilseler bile \n",
    "    \n",
    "    satır içi yorumları dikkatli kullanmalısınız. Ayrıca, belirli bir kod satırının \n",
    "    \n",
    "    ne anlama geldiğini hatırlamanıza da yardımcı olabilirler veya kodunuzun tüm \n",
    "    \n",
    "    yönlerine aşina olmayan biriyle işbirliği yaptığınızda kullanışlı olabilirler.     \n",
    "        \n",
    "    Satır içi yorumları, kodun kendisini takip ederek bir ifadenin aynı satırında kullanırsınız. #Bu yorumlar da tek boşlukla başlar .\n",
    "\n",
    "       counter = 0  # initialize the counter\n",
    "\n",
    "    3- Ortak modüllerin, dosyaların, sınıfların ve yöntemlerin başlangıcına belge \n",
    "    \n",
    "    dizeleri veya belge dizeleri yazarsınız. Bu tür yorumlar şununla başlar \"\"\"ve \n",
    "    \n",
    "    şöyle biter \"\"\":   \n",
    " "
   ]
  },
  {
   "cell_type": "markdown",
   "metadata": {},
   "source": []
  },
  {
   "cell_type": "code",
   "execution_count": null,
   "metadata": {},
   "outputs": [],
   "source": []
  }
 ],
 "metadata": {
  "kernelspec": {
   "display_name": "Python 3",
   "language": "python",
   "name": "python3"
  },
  "language_info": {
   "codemirror_mode": {
    "name": "ipython",
    "version": 3
   },
   "file_extension": ".py",
   "mimetype": "text/x-python",
   "name": "python",
   "nbconvert_exporter": "python",
   "pygments_lexer": "ipython3",
   "version": "3.11.5"
  }
 },
 "nbformat": 4,
 "nbformat_minor": 2
}
