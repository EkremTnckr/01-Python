{
 "cells": [
  {
   "cell_type": "markdown",
   "metadata": {},
   "source": [
    "# Python Arithmetic Operators --->Python Aritmetik Operatörleri\n"
   ]
  },
  {
   "cell_type": "markdown",
   "metadata": {},
   "source": [
    "## Toplama Operatoru--> Addition Operator\n",
    "\n",
    "Artı olarak telaffuz edilen bu operatör, temel bir aritmetik operatördür. \n",
    "\n",
    "Her iki taraftaki iki sayısal işleneni toplar ve toplama sonucunu döndürür."
   ]
  },
  {
   "cell_type": "code",
   "execution_count": 1,
   "metadata": {},
   "outputs": [
    {
     "name": "stdout",
     "output_type": "stream",
     "text": [
      "30\n"
     ]
    }
   ],
   "source": [
    "a =10\n",
    "b =20\n",
    "c =a + b\n",
    "print(c)"
   ]
  },
  {
   "cell_type": "markdown",
   "metadata": {},
   "source": [
    "### Tamsayı ve float  toplaminda sonuc float verir"
   ]
  },
  {
   "cell_type": "code",
   "execution_count": 1,
   "metadata": {},
   "outputs": [
    {
     "name": "stdout",
     "output_type": "stream",
     "text": [
      "30.5\n"
     ]
    }
   ],
   "source": [
    "a =10\n",
    "b= 20.5\n",
    "print(a + b)"
   ]
  },
  {
   "cell_type": "markdown",
   "metadata": {},
   "source": [
    "## Cikarma Operatoru ---> Subtraction Operator (-)"
   ]
  },
  {
   "cell_type": "code",
   "execution_count": 3,
   "metadata": {},
   "outputs": [
    {
     "name": "stdout",
     "output_type": "stream",
     "text": [
      "5\n"
     ]
    }
   ],
   "source": [
    "a =10\n",
    "b =5 \n",
    "print( a- b)"
   ]
  },
  {
   "cell_type": "markdown",
   "metadata": {},
   "source": [
    "## Int() ile float() cikarma isleminde sonuc float olur."
   ]
  },
  {
   "cell_type": "code",
   "execution_count": 2,
   "metadata": {},
   "outputs": [
    {
     "name": "stdout",
     "output_type": "stream",
     "text": [
      "6.3\n"
     ]
    }
   ],
   "source": [
    "a =12\n",
    "b =5.7\n",
    "print(a -b)"
   ]
  },
  {
   "cell_type": "markdown",
   "metadata": {},
   "source": [
    "## Complex() ve float cikarma isleminde gercek bilesen isleme dahil edilir"
   ]
  },
  {
   "cell_type": "code",
   "execution_count": 3,
   "metadata": {},
   "outputs": [
    {
     "name": "stdout",
     "output_type": "stream",
     "text": [
      "(1.5+5j)\n"
     ]
    }
   ],
   "source": [
    "a =10 +5j\n",
    "b =8.5\n",
    "print(a -b)"
   ]
  },
  {
   "cell_type": "markdown",
   "metadata": {},
   "source": [
    "## Carpma Operatoru ---> Multiplication Operator (*)\n",
    "\n",
    "* (yıldız) simgesi Python'da (birçok dilde olduğu gibi) çarpma operatörü olarak tanımlanır. \n",
    "\n",
    "Her iki taraftaki iki işlenenin çarpımını döndürür. \n",
    "\n",
    "İşlenenlerden herhangi biri negatifse sonuç da negatiftir. \n",
    "\n",
    "Her ikisi de negatif ise sonuç pozitiftir. \n",
    "\n",
    "İşlenenlerin sırasını değiştirmek sonucu değiştirmez"
   ]
  },
  {
   "cell_type": "code",
   "execution_count": 6,
   "metadata": {},
   "outputs": [
    {
     "name": "stdout",
     "output_type": "stream",
     "text": [
      "200\n"
     ]
    }
   ],
   "source": [
    "a =10\n",
    "b= 20\n",
    "print( a * b)\n"
   ]
  },
  {
   "cell_type": "markdown",
   "metadata": {},
   "source": [
    "## carpma isleminde, int ile float  ve bilimsel bir sayi carpilabilir"
   ]
  },
  {
   "cell_type": "code",
   "execution_count": 7,
   "metadata": {},
   "outputs": [
    {
     "name": "stdout",
     "output_type": "stream",
     "text": [
      "205.0\n"
     ]
    }
   ],
   "source": [
    "a = 10\n",
    "b =20.5\n",
    "print(a * b)"
   ]
  },
  {
   "cell_type": "code",
   "execution_count": 8,
   "metadata": {},
   "outputs": [
    {
     "name": "stdout",
     "output_type": "stream",
     "text": [
      "0.037462499999999996\n"
     ]
    }
   ],
   "source": [
    "a =5.55\n",
    "b= 6.75E-3\n",
    "print(a * b)"
   ]
  },
  {
   "cell_type": "markdown",
   "metadata": {},
   "source": [
    "# complex sayi ile  float sayi carpiminda sonucta complex sayinin sanal kismini da carpar"
   ]
  },
  {
   "cell_type": "code",
   "execution_count": 4,
   "metadata": {},
   "outputs": [
    {
     "name": "stdout",
     "output_type": "stream",
     "text": [
      "(205+102.5j)\n"
     ]
    }
   ],
   "source": [
    "a =10 + 5j\n",
    "b = 20.5\n",
    "print (a * b) ## (10*20.5) ve  (5j * 20.5) carpilir\n"
   ]
  },
  {
   "cell_type": "markdown",
   "metadata": {},
   "source": [
    "## Bolme Operatoru ---->  Division Operator (/)\n",
    " * islemde herhagi bir sayinin negatif olmasi durumunda sonuc neghatiftir.\n",
    "\n",
    " ** Her iki sayi int olsa bile bolme de sonuc floattir."
   ]
  },
  {
   "cell_type": "code",
   "execution_count": 5,
   "metadata": {},
   "outputs": [
    {
     "name": "stdout",
     "output_type": "stream",
     "text": [
      "2.0\n"
     ]
    },
    {
     "data": {
      "text/plain": [
       "float"
      ]
     },
     "execution_count": 5,
     "metadata": {},
     "output_type": "execute_result"
    }
   ],
   "source": [
    "a =20\n",
    "b =10\n",
    "c = (a/b)\n",
    "print(c)\n",
    "type(c)"
   ]
  },
  {
   "cell_type": "markdown",
   "metadata": {},
   "source": [
    "Bolme isleminde float ile tam sayi bolunebilir,veya bilimsel bir sayi da olablilr."
   ]
  },
  {
   "cell_type": "code",
   "execution_count": 6,
   "metadata": {},
   "outputs": [
    {
     "name": "stdout",
     "output_type": "stream",
     "text": [
      "-0.4878048780487805\n"
     ]
    }
   ],
   "source": [
    "a =10\n",
    "b = -20.5\n",
    "c= a/b\n",
    "print(c)"
   ]
  },
  {
   "cell_type": "code",
   "execution_count": 16,
   "metadata": {},
   "outputs": [
    {
     "name": "stdout",
     "output_type": "stream",
     "text": [
      "-0.02\n"
     ]
    }
   ],
   "source": [
    "a = -2.5\n",
    "b =125.0\n",
    "print(a/b)"
   ]
  },
  {
   "cell_type": "markdown",
   "metadata": {},
   "source": [
    "* Complex sayi  ile bolme isleminde complex sayinin her iki kismiyla bolme islemi yapilir."
   ]
  },
  {
   "cell_type": "code",
   "execution_count": 17,
   "metadata": {},
   "outputs": [
    {
     "name": "stdout",
     "output_type": "stream",
     "text": [
      "(3+3j)\n"
     ]
    }
   ],
   "source": [
    "a =7.5 + 7.5j\n",
    "b =2.5\n",
    "c =a/b\n",
    "print(c)"
   ]
  },
  {
   "cell_type": "markdown",
   "metadata": {},
   "source": [
    "## Modul Operatoru ---> Modulus Operator (%)\n",
    "\n",
    "Python, Yüzde sembolü olarak bilinen \"%\" sembolünü Modül (veya modülo) operatörü olarak tanımlar.\n",
    "\n",
    "Payda payı böldükten sonra kalanı döndürür. Kalan operatörü olarak da adlandırılabilir.  \n",
    "\n",
    "Modül operatörünün sonucu, tamsayı bölümünden sonra kalan sayıdır.\n",
    " \n",
    "Örnek vermek gerekirse, 10, 3'e bölündüğünde bölüm 3, kalan 1 olur. Dolayısıyla %103 (normalde 10 mod 3 olarak telaffuz edilir) 1 sonucunu verir.\n",
    "\n",
    "Her iki işlenen de tam sayı ise modül değeri bir tam sayıdır.\n",
    "Pay tamamen bölünebilirse kalan 0'dır.\n",
    "\n",
    "Pay, paydadan küçükse modül paya eşittir. Payda 0 ise Python ZeroDivisionError \n",
    "değerini yükseltir."
   ]
  },
  {
   "cell_type": "code",
   "execution_count": 7,
   "metadata": {},
   "outputs": [
    {
     "name": "stdout",
     "output_type": "stream",
     "text": [
      "0\n"
     ]
    }
   ],
   "source": [
    "a =10\n",
    "b =2\n",
    "print(a % b)"
   ]
  },
  {
   "cell_type": "code",
   "execution_count": 19,
   "metadata": {},
   "outputs": [
    {
     "name": "stdout",
     "output_type": "stream",
     "text": [
      "2\n"
     ]
    }
   ],
   "source": [
    "a = 10\n",
    "b = 4\n",
    "print(a % b)"
   ]
  },
  {
   "cell_type": "code",
   "execution_count": 20,
   "metadata": {},
   "outputs": [
    {
     "name": "stdout",
     "output_type": "stream",
     "text": [
      "0\n"
     ]
    }
   ],
   "source": [
    "a = 0\n",
    "b = 10\n",
    "print(a % b)"
   ]
  },
  {
   "cell_type": "markdown",
   "metadata": {},
   "source": [
    "* mod  alma isleminde sayilardan herhangi biri float ise sonuc float olur.\n",
    "\n",
    "* mod alma isleminde complex sayiyi kabul etmrz .Hata verir."
   ]
  },
  {
   "cell_type": "code",
   "execution_count": 21,
   "metadata": {},
   "outputs": [
    {
     "name": "stdout",
     "output_type": "stream",
     "text": [
      "0.0\n"
     ]
    }
   ],
   "source": [
    "a =10\n",
    "b = 2.5\n",
    "print(a % b)"
   ]
  },
  {
   "cell_type": "code",
   "execution_count": 22,
   "metadata": {},
   "outputs": [
    {
     "name": "stdout",
     "output_type": "stream",
     "text": [
      "1.0\n"
     ]
    }
   ],
   "source": [
    "a =10\n",
    "b =1.5\n",
    "print(a % b)"
   ]
  },
  {
   "cell_type": "markdown",
   "metadata": {},
   "source": [
    "# Python Us Operatoru(**)---> Exponent Operator (**)\n",
    "\n",
    "* Python üs operatörü olarak ** (çift yıldız işareti) kullanır.\n",
    "\n",
    "* Üs alma ifadesinde her iki işlenen de tam sayı ise sonuç da bir tam sayıdır. \n",
    "\n",
    "*Her ikisinin de float durumunda float  olur.\n",
    "\n",
    "* Sayilardan biri complex sayi ise us operatoru complex sayi dondurur.\n",
    "\n",
    "* Taban  0 ise sonuc 0 , index 0 ise  sonuc her zaman 1 olur.\n",
    "\n",
    "\n",
    "### pow() ---> us alma fonksiyonu\n"
   ]
  },
  {
   "cell_type": "code",
   "execution_count": 8,
   "metadata": {},
   "outputs": [
    {
     "name": "stdout",
     "output_type": "stream",
     "text": [
      "100\n"
     ]
    },
    {
     "data": {
      "text/plain": [
       "int"
      ]
     },
     "execution_count": 8,
     "metadata": {},
     "output_type": "execute_result"
    }
   ],
   "source": [
    "a =10\n",
    "b = 2\n",
    "print( a ** b)\n",
    "type(a ** b)"
   ]
  },
  {
   "cell_type": "code",
   "execution_count": 9,
   "metadata": {},
   "outputs": [
    {
     "name": "stdout",
     "output_type": "stream",
     "text": [
      "31.622776601683793\n"
     ]
    },
    {
     "data": {
      "text/plain": [
       "float"
      ]
     },
     "execution_count": 9,
     "metadata": {},
     "output_type": "execute_result"
    }
   ],
   "source": [
    "a =10\n",
    "b =1.5\n",
    "print( a ** b)\n",
    "type (a ** b)"
   ]
  },
  {
   "cell_type": "code",
   "execution_count": 10,
   "metadata": {},
   "outputs": [
    {
     "name": "stdout",
     "output_type": "stream",
     "text": [
      "(-7-24j)\n"
     ]
    },
    {
     "data": {
      "text/plain": [
       "complex"
      ]
     },
     "execution_count": 10,
     "metadata": {},
     "output_type": "execute_result"
    }
   ],
   "source": [
    "a =1+2j\n",
    "b =4\n",
    "print( a ** b)\n",
    "type(a ** b)"
   ]
  },
  {
   "cell_type": "code",
   "execution_count": 28,
   "metadata": {},
   "outputs": [
    {
     "name": "stdout",
     "output_type": "stream",
     "text": [
      "1.0\n"
     ]
    }
   ],
   "source": [
    "a =12.4\n",
    "b = 0\n",
    "print( a** b)"
   ]
  },
  {
   "cell_type": "code",
   "execution_count": 2,
   "metadata": {},
   "outputs": [
    {
     "data": {
      "text/plain": [
       "5.0"
      ]
     },
     "execution_count": 2,
     "metadata": {},
     "output_type": "execute_result"
    }
   ],
   "source": [
    "25 ** 0.5"
   ]
  },
  {
   "cell_type": "code",
   "execution_count": 11,
   "metadata": {},
   "outputs": [
    {
     "data": {
      "text/plain": [
       "2197"
      ]
     },
     "execution_count": 11,
     "metadata": {},
     "output_type": "execute_result"
    }
   ],
   "source": [
    "pow(13,3)"
   ]
  },
  {
   "cell_type": "code",
   "execution_count": 44,
   "metadata": {},
   "outputs": [
    {
     "name": "stdout",
     "output_type": "stream",
     "text": [
      "125\n"
     ]
    }
   ],
   "source": [
    "pow(3,2)"
   ]
  },
  {
   "cell_type": "code",
   "execution_count": null,
   "metadata": {},
   "outputs": [],
   "source": [
    "x =(4)"
   ]
  },
  {
   "cell_type": "markdown",
   "metadata": {},
   "source": [
    "# Cift Bolme Operatoru(//)---> Floor Division Operator (//)\n",
    "\n",
    "* Kat bölmesine tam sayı bölmesi de denir. Python bu amaçla // (çift eğik çizgi) sembolünü kullanır. Geri kalanı döndüren modül veya modülün aksine, taban bölümü, ilgili işlenenlerin bölümünün bölümünü verir.\n",
    "\n",
    "* Her iki sayi da pozitif ise kat operatoru kesirli kismi cikarilmis bir sayi dondurur.\n",
    "\n",
    "* Ancak iki sayidan biri negatif ise sonuc sifirdan uzaklasarak negatf sonsuza yuvarlanir.\n"
   ]
  },
  {
   "cell_type": "code",
   "execution_count": 12,
   "metadata": {},
   "outputs": [
    {
     "name": "stdout",
     "output_type": "stream",
     "text": [
      "4\n"
     ]
    }
   ],
   "source": [
    "a =9\n",
    "b =2 \n",
    "print(a // b)"
   ]
  },
  {
   "cell_type": "code",
   "execution_count": 13,
   "metadata": {},
   "outputs": [
    {
     "name": "stdout",
     "output_type": "stream",
     "text": [
      "-5\n"
     ]
    }
   ],
   "source": [
    "a =9\n",
    "b = -2\n",
    "print(a // b)"
   ]
  },
  {
   "cell_type": "code",
   "execution_count": 14,
   "metadata": {},
   "outputs": [
    {
     "name": "stdout",
     "output_type": "stream",
     "text": [
      "6.0\n"
     ]
    }
   ],
   "source": [
    "a = 10\n",
    "b =1.5\n",
    "print( a // b)"
   ]
  },
  {
   "cell_type": "code",
   "execution_count": 33,
   "metadata": {},
   "outputs": [
    {
     "name": "stdout",
     "output_type": "stream",
     "text": [
      "-7.0\n"
     ]
    }
   ],
   "source": [
    "a = -10\n",
    "b= 1.5\n",
    "print( a//b)"
   ]
  },
  {
   "cell_type": "code",
   "execution_count": 21,
   "metadata": {},
   "outputs": [
    {
     "name": "stdout",
     "output_type": "stream",
     "text": [
      "12\n"
     ]
    }
   ],
   "source": [
    "y = 7    # 3 defa calistirlimnca sonuc ne olur?\n",
    "y += 5\n",
    "print(y)\n",
    "# her seferinde y degiskeninin yeniden ayni deger olrak tanimlar.\n",
    "# Bu yuzden sonuc degismez."
   ]
  },
  {
   "cell_type": "code",
   "execution_count": 18,
   "metadata": {},
   "outputs": [
    {
     "name": "stdout",
     "output_type": "stream",
     "text": [
      "27\n"
     ]
    }
   ],
   "source": [
    "    # 3 kere calistirilinca sonuc ne olur?\n",
    "y += 5\n",
    "print(y)"
   ]
  },
  {
   "cell_type": "markdown",
   "metadata": {},
   "source": [
    "SORU : Bir kenari 5 diger kenari 12 olan dik ucgenin hipotenusu kactir?"
   ]
  },
  {
   "cell_type": "code",
   "execution_count": 22,
   "metadata": {},
   "outputs": [
    {
     "name": "stdout",
     "output_type": "stream",
     "text": [
      "hipotenus: 13.0\n"
     ]
    }
   ],
   "source": [
    "\n",
    " \n",
    "kisa_kenar =  int(input(\"kisa kenari giriniz\"))\n",
    "uzun_kenar = int(input(\"uzunkenari giriniz\"))\n",
    "hipotenus = (kisa_kenar ** 2 + uzun_kenar ** 2) ** 0.5\n",
    "print(\"hipotenus:\", hipotenus)\n"
   ]
  },
  {
   "cell_type": "markdown",
   "metadata": {},
   "source": [
    "# Python Complex Sayi Aritmetigi ----> Complex Number Arithmetic\n",
    "\n",
    "* Aritmetik operatörler, her iki sayi da complex sayi  olduğunda biraz farklı davranır.\n",
    "\n",
    "* Complex  sayılarda toplama ve çıkarma işlemi, ilgili gerçek ve sanal bileşenlerin basit bir şekilde toplanması/çıkarılmasıdır."
   ]
  },
  {
   "cell_type": "code",
   "execution_count": 23,
   "metadata": {},
   "outputs": [
    {
     "name": "stdout",
     "output_type": "stream",
     "text": [
      "(5.5+4.4j)\n",
      "(-0.5+2.4j)\n"
     ]
    }
   ],
   "source": [
    "a =2.5+3.4j\n",
    "b = 3+1.0j\n",
    "print(a + b)\n",
    "print(a -b)"
   ]
  },
  {
   "cell_type": "markdown",
   "metadata": {},
   "source": [
    "Karmaşık sayıların çarpımı cebirdeki iki binomun çarpımına benzer.\n",
    "\n",
    " Eğer \"a+bj\" ve \"x+yj\" iki karmaşık sayı ise bunların çarpımı şu formülle verilir:\n",
    "\n",
    " (a+bj)*(x+yj) = ax+ayj+xbj+byj2 = (ax-by)+(ay+xb)j"
   ]
  },
  {
   "cell_type": "code",
   "execution_count": null,
   "metadata": {},
   "outputs": [],
   "source": [
    "a=6+4j\n",
    "b=3+2j\n",
    "c=a*b\n",
    "c=(18-8)+(12+12)j\n",
    "c=10+24j"
   ]
  },
  {
   "cell_type": "markdown",
   "metadata": {},
   "source": [
    "İki complex  sayının bölünmesinin nasıl gerçekleştiğini anlamak için karmaşık sayının eşlenikini kullanmalıyız.\n",
    "\n",
    "Python'un karmaşık nesnesi, sanal kısmın işareti ters çevrilmiş bir karmaşık sayı döndüren bir conjugate() yöntemine sahiptir."
   ]
  },
  {
   "cell_type": "code",
   "execution_count": 38,
   "metadata": {},
   "outputs": [
    {
     "data": {
      "text/plain": [
       "(5-6j)"
      ]
     },
     "execution_count": 38,
     "metadata": {},
     "output_type": "execute_result"
    }
   ],
   "source": [
    "a =5+6j\n",
    "a.conjugate()"
   ]
  },
  {
   "cell_type": "markdown",
   "metadata": {},
   "source": [
    "İki complex  sayıyı bölmek için, hem payı hem de paydayı paydanın eşleniğiyle bölün ve çarpın."
   ]
  },
  {
   "cell_type": "code",
   "execution_count": 41,
   "metadata": {},
   "outputs": [
    {
     "ename": "SyntaxError",
     "evalue": "unmatched ')' (1225027925.py, line 5)",
     "output_type": "error",
     "traceback": [
      "\u001b[1;36m  Cell \u001b[1;32mIn[41], line 5\u001b[1;36m\u001b[0m\n\u001b[1;33m    c=(6+4j)*(3-2j)/3+2j)*(3-2j)\u001b[0m\n\u001b[1;37m                        ^\u001b[0m\n\u001b[1;31mSyntaxError\u001b[0m\u001b[1;31m:\u001b[0m unmatched ')'\n"
     ]
    }
   ],
   "source": [
    "a=6+4j\n",
    "b=3+2j\n",
    "c=a/b\n",
    "c=(6+4j)/(3+2j)\n",
    "c=(6+4j)*(3-2j)/3+2j)*(3-2j)\n",
    "c=(18-12j+12j+8)/(9-6j+6j+4)\n",
    "c=26/13\n",
    "c=2+0j\n",
    "\n"
   ]
  },
  {
   "cell_type": "code",
   "execution_count": 42,
   "metadata": {},
   "outputs": [
    {
     "name": "stdout",
     "output_type": "stream",
     "text": [
      "(2+0j)\n"
     ]
    }
   ],
   "source": [
    "a =6+4j\n",
    "b = 3+2j\n",
    "print(a /b)"
   ]
  },
  {
   "cell_type": "markdown",
   "metadata": {},
   "source": [
    "Python'daki complex  sınıf, modül operatörünü (%) ve kat bölme operatörünü (//) desteklemez."
   ]
  },
  {
   "cell_type": "markdown",
   "metadata": {},
   "source": [
    "soru = yaricapi 7 olan dairenin alanini bulan python kodunu yaziniz"
   ]
  },
  {
   "cell_type": "code",
   "execution_count": 6,
   "metadata": {},
   "outputs": [
    {
     "name": "stdout",
     "output_type": "stream",
     "text": [
      "Dairenin alani: 153.86\n"
     ]
    }
   ],
   "source": [
    "r = 7\n",
    "pi =3.14\n",
    "\n",
    "alan = pi * r **2\n",
    "print(\"Dairenin alani:\", alan)"
   ]
  },
  {
   "cell_type": "markdown",
   "metadata": {},
   "source": [
    "soru = y =(2 * 6 /4) ** (5 * (21 // 4)- 23)\n",
    "print (y) sonuc nedir"
   ]
  },
  {
   "cell_type": "code",
   "execution_count": 7,
   "metadata": {},
   "outputs": [
    {
     "name": "stdout",
     "output_type": "stream",
     "text": [
      "9.0\n"
     ]
    }
   ],
   "source": [
    "y =(2 * 6 /4) ** (5 *(21 //4)-23)\n",
    "print(y)"
   ]
  },
  {
   "cell_type": "markdown",
   "metadata": {},
   "source": [
    "soru : Kullanicidan alinan iki sayi alin ve tum aritmetik islem operatorlerinin  kullanarak sonuclari ekrana yazdirin."
   ]
  },
  {
   "cell_type": "code",
   "execution_count": 3,
   "metadata": {},
   "outputs": [
    {
     "name": "stdout",
     "output_type": "stream",
     "text": [
      "Toplama sonucu: 10.5\n",
      "cikarma sonucu: -0.09999999999999964\n",
      "carpim sonucu : 27.56\n",
      "bolme sonucu : 0.9811320754716982\n",
      "ussu alma: 6234.73101230862\n",
      "modulus sonucu: 5.2\n"
     ]
    }
   ],
   "source": [
    "num1 = float(input(\"1.sayiyi giriniz\"))\n",
    "num2 = float(input(\"2.sayiyi giriniz\"))\n",
    "print (\"Toplama sonucu:\",num1 + num2)\n",
    "print(\"cikarma sonucu:\",num1 - num2 )\n",
    "print(\"carpim sonucu :\",num1 * num2)\n",
    "print(\"bolme sonucu :\", num1 / num2)\n",
    "print(\"ussu alma:\",num1 ** num2)\n",
    "print(\"modulus sonucu:\", num1 % num2 )\n",
    "# ilk sayi =5.2\n",
    "# 2.sayi 5.3"
   ]
  },
  {
   "cell_type": "markdown",
   "metadata": {},
   "source": [
    "soru : Kullanicidan once adini,sonra soyadini ve daha sonra yasini isteyiniz.\n",
    "Alinan sonucu tek bir "
   ]
  },
  {
   "cell_type": "code",
   "execution_count": 5,
   "metadata": {},
   "outputs": [
    {
     "name": "stdout",
     "output_type": "stream",
     "text": [
      "ali candan 40\n",
      "ali\n",
      "candan\n",
      "40\n"
     ]
    }
   ],
   "source": [
    "name = input(\"Adiniz: \")\n",
    "lastname = input(\"Soyadiniz :\")\n",
    "age = input(\"Yas :\")\n",
    "print(name,lastname,age)\n",
    "print(name,lastname,age,sep ='\\n')"
   ]
  },
  {
   "cell_type": "markdown",
   "metadata": {},
   "source": [
    "soru : Kullanicidan iki sayi isteyin.1 sayinin kuvveti olarak 2.sayiyi alin,elde edilen sonucun 4 e bolumunden kalan sayiyi ekrana yazdirin."
   ]
  },
  {
   "cell_type": "code",
   "execution_count": 6,
   "metadata": {},
   "outputs": [
    {
     "name": "stdout",
     "output_type": "stream",
     "text": [
      "sonuc: 1\n"
     ]
    }
   ],
   "source": [
    "sayi1 =  int(input(\"sayi1\"))\n",
    "sayi2 =int(input(\"sayi2:\"))\n",
    "elde_edilen_sayi = sayi1 ** sayi2\n",
    "sonuc = elde_edilen_sayi % 4 \n",
    "print(\"sonuc:\",sonuc)\n",
    "# sayi1 =5\n",
    "#sayi2 =4"
   ]
  },
  {
   "cell_type": "markdown",
   "metadata": {},
   "source": [
    "soru : Kullanicidan iki sayi isteyin.1.sayiyi integer veri tipine,2.sayiyi Float veri tipine donusturun.Aldiginiz 2 sayinin farkini yeni bir degiskene aktarin ve bu degiskeni ekrana bastirin.\n",
    "daha sonra bu degiskeni Integer veri tipine donusturerek ekrana yazdirin."
   ]
  },
  {
   "cell_type": "code",
   "execution_count": 7,
   "metadata": {},
   "outputs": [
    {
     "name": "stdout",
     "output_type": "stream",
     "text": [
      "7.3\n",
      "7\n"
     ]
    }
   ],
   "source": [
    "sayi_1 = int((input(\"sayi 1 :\")))\n",
    "sayi_2 = float(input(\"sayi 2 :\"))\n",
    "result = sayi_1 -sayi_2\n",
    "print(result)\n",
    "result =int(result)\n",
    "print(result)\n",
    "\n",
    "# sayi_1 =12\n",
    "#sayi_2 =4.7"
   ]
  },
  {
   "cell_type": "code",
   "execution_count": 8,
   "metadata": {},
   "outputs": [
    {
     "name": "stdout",
     "output_type": "stream",
     "text": [
      "0.0\n"
     ]
    }
   ],
   "source": [
    "x =(4 // 7) ** (4 **(1 * 2 / 2)/2)\n",
    "print(x)"
   ]
  },
  {
   "cell_type": "code",
   "execution_count": 9,
   "metadata": {},
   "outputs": [
    {
     "data": {
      "text/plain": [
       "4"
      ]
     },
     "execution_count": 9,
     "metadata": {},
     "output_type": "execute_result"
    }
   ],
   "source": [
    "25 % 7"
   ]
  },
  {
   "cell_type": "code",
   "execution_count": 10,
   "metadata": {},
   "outputs": [
    {
     "name": "stdout",
     "output_type": "stream",
     "text": [
      "4.0\n"
     ]
    }
   ],
   "source": [
    "x =(24 /2) - (2 ** (1 * 8 /2)/2)\n",
    "print(x)"
   ]
  },
  {
   "cell_type": "code",
   "execution_count": 11,
   "metadata": {},
   "outputs": [
    {
     "data": {
      "text/plain": [
       "3"
      ]
     },
     "execution_count": 11,
     "metadata": {},
     "output_type": "execute_result"
    }
   ],
   "source": [
    "25 // 7"
   ]
  },
  {
   "cell_type": "code",
   "execution_count": 12,
   "metadata": {},
   "outputs": [
    {
     "data": {
      "text/plain": [
       "3.0"
      ]
     },
     "execution_count": 12,
     "metadata": {},
     "output_type": "execute_result"
    }
   ],
   "source": [
    "25 //7.0"
   ]
  },
  {
   "cell_type": "code",
   "execution_count": 16,
   "metadata": {},
   "outputs": [
    {
     "name": "stdout",
     "output_type": "stream",
     "text": [
      "15.0\n"
     ]
    }
   ],
   "source": [
    "z =5.0 # 3 kere calistir sonuc ne olur?\n",
    "z *= 3\n",
    "print(z)"
   ]
  },
  {
   "cell_type": "markdown",
   "metadata": {},
   "source": [
    "soru: Kullanicidan celcius bilgisini alin ve fahrenheit a cevirin"
   ]
  },
  {
   "cell_type": "code",
   "execution_count": 18,
   "metadata": {},
   "outputs": [
    {
     "name": "stdout",
     "output_type": "stream",
     "text": [
      "Hava sicakligi 25.5 derece: 77.9\n"
     ]
    }
   ],
   "source": [
    "celc = float(input(\"hava sicakligini celcius olarak yaziniz.Orn:25.5\"))\n",
    "fahr = celc * 1.8 + 32\n",
    "\n",
    "print(\"Hava sicakligi\",celc,\"derece:\",fahr)"
   ]
  }
 ],
 "metadata": {
  "kernelspec": {
   "display_name": "Python 3",
   "language": "python",
   "name": "python3"
  },
  "language_info": {
   "codemirror_mode": {
    "name": "ipython",
    "version": 3
   },
   "file_extension": ".py",
   "mimetype": "text/x-python",
   "name": "python",
   "nbconvert_exporter": "python",
   "pygments_lexer": "ipython3",
   "version": "3.12.0"
  }
 },
 "nbformat": 4,
 "nbformat_minor": 2
}
