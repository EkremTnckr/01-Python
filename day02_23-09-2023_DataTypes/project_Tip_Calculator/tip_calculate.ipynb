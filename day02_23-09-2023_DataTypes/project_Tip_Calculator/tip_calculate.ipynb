{
 "cells": [
  {
   "cell_type": "markdown",
   "metadata": {},
   "source": [
    "Bahsis hesaplayici \n",
    "Sizden toplama faturanin ne kadar geldigini girmenizi isteyecek\n",
    "orn birkac arkadas ogle yemegine icin disari ciktik ve hesap  124 $ geldi.Sonra size ne kadar yani % kac  bahsis verecegini soracak\n",
    "Diyelim ki % 12 bahsis vermek istediniz 12 girip enter tusuna basacagiz\n",
    "Faturayi kac kisi paylasti orn 7 kisiyiz enter basin\n",
    "Herbir kisinin ne kadar odemesi gerektigini soyleceyecek\n",
    "Sonuca dikkat edelim nasil olduguna float istiyoruz\n",
    "\n",
    "\n"
   ]
  },
  {
   "cell_type": "code",
   "execution_count": 16,
   "metadata": {},
   "outputs": [
    {
     "name": "stdout",
     "output_type": "stream",
     "text": [
      "Welcome to the tip calculator\n",
      "Each person should pay: $88.00\n"
     ]
    }
   ],
   "source": [
    "print(\"Welcome to the tip calculator\")\n",
    "bill= float(input(\"what was the total bill?$\"))\n",
    "tip =int(input(\"How much tip woluld you like to give?10,12 or 15?\"))\n",
    "people = int(input(\"How many people to split the bill?\"))\n",
    "tip_as_percent = tip /100\n",
    "total_tip_amaunt =bill * tip_as_percent\n",
    "total_bill =bill + total_tip_amaunt\n",
    "bill_per_person = total_bill / people\n",
    "final_amaunt= round(bill_per_person, 2)\n",
    "final_amaunt =\"{:.2f}\".format(bill_per_person)# rakami yuvarlama fonk.\n",
    "print(f\"Each person should pay: ${final_amaunt}\")\n",
    "\n",
    "\n",
    "\n",
    "\n",
    "\n"
   ]
  },
  {
   "cell_type": "code",
   "execution_count": null,
   "metadata": {},
   "outputs": [],
   "source": []
  }
 ],
 "metadata": {
  "kernelspec": {
   "display_name": "Python 3",
   "language": "python",
   "name": "python3"
  },
  "language_info": {
   "codemirror_mode": {
    "name": "ipython",
    "version": 3
   },
   "file_extension": ".py",
   "mimetype": "text/x-python",
   "name": "python",
   "nbconvert_exporter": "python",
   "pygments_lexer": "ipython3",
   "version": "3.11.6"
  }
 },
 "nbformat": 4,
 "nbformat_minor": 2
}
