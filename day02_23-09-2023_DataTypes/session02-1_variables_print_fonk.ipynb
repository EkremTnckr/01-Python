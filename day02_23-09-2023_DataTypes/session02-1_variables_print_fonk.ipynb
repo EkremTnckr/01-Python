{
 "cells": [
  {
   "cell_type": "markdown",
   "metadata": {},
   "source": [
    "# Variables\n",
    " * degisken --> Veri degerlerini depolamak icin kullanilir. \n",
    " \n",
    "\n",
    " # Degisken Olusturma\n",
    " *Python da degisken bildirmek icin bir komut yoktur.\n",
    " *Python da bir degiskene ilk kez deger atadiginizda anda olusur.\n",
    " *\n",
    "\n"
   ]
  },
  {
   "cell_type": "code",
   "execution_count": 1,
   "metadata": {},
   "outputs": [
    {
     "name": "stdout",
     "output_type": "stream",
     "text": [
      "5\n",
      "Alex\n"
     ]
    }
   ],
   "source": [
    "# degisken olusturma\n",
    "x = 5\n",
    "y = \"Alex\"\n",
    "print(x)\n",
    "print(y)"
   ]
  },
  {
   "cell_type": "code",
   "execution_count": 5,
   "metadata": {},
   "outputs": [
    {
     "name": "stdout",
     "output_type": "stream",
     "text": [
      "techpro\n"
     ]
    }
   ],
   "source": [
    "name =\"techpro\"\n",
    "print(name)"
   ]
  },
  {
   "cell_type": "code",
   "execution_count": 7,
   "metadata": {},
   "outputs": [
    {
     "name": "stdout",
     "output_type": "stream",
     "text": [
      "32\n"
     ]
    }
   ],
   "source": [
    "age = 32 \n",
    "print(age)"
   ]
  },
  {
   "cell_type": "code",
   "execution_count": 8,
   "metadata": {},
   "outputs": [
    {
     "name": "stdout",
     "output_type": "stream",
     "text": [
      "3.14\n"
     ]
    }
   ],
   "source": [
    "pi_number = 3.14   # degisken tanimlarken \"-\" kullanilmaz\n",
    "print(pi_number)"
   ]
  },
  {
   "cell_type": "markdown",
   "metadata": {},
   "source": [
    "# Degiskene Isim Verme Kurallari \n",
    "\n",
    "*Değişken adı bir harfle veya alt çizgi karakteriyle başlamalıdır \n",
    "\n",
    "*Değişken adı sayıyla başlayamaz  \n",
    "\n",
    "*Değişken adı yalnızca alfasayısal karakterler ve alt çizgiler içerebilir (Az, 0-9 ve _ )\n",
    "*Değişken adları büyük/küçük harfe duyarlıdır (yaş, Yaş ve YAŞ üç farklı değişkendir) \n",
    "\n",
    "*Değişken adı Python anahtar sözcüklerinden herhangi biri olamaz ."
   ]
  },
  {
   "cell_type": "code",
   "execution_count": null,
   "metadata": {},
   "outputs": [],
   "source": [
    "myname = \"John\"   # degisken adi bir harfle  veya alt cizgi ile baslamali\n",
    "my_name1= \"John\"\n",
    "\n",
    "_name_a = \"John\"\n",
    "\n",
    "MYNAME = \"John\"\n",
    "myName = \"John\"\n",
    "\n",
    "myname2 = \"John\"\n",
    "\n"
   ]
  },
  {
   "cell_type": "markdown",
   "metadata": {},
   "source": [
    "# Birden Fazla Kelimeden Olusan Degisken Adlari\n",
    "\n",
    "## Camel Case \n",
    "    * llk kelime haric her kelime buyuk yazir. \n",
    "## Pascal Case\n",
    "    * Her kelime buyuk harfle baslar\n",
    "##  Snake Case\n",
    "    * Her sözcük bir alt çizgi karakteriyle ayrılır      "
   ]
  },
  {
   "cell_type": "code",
   "execution_count": 10,
   "metadata": {},
   "outputs": [
    {
     "name": "stdout",
     "output_type": "stream",
     "text": [
      "Alex\n",
      "Alex\n",
      "Alex\n"
     ]
    }
   ],
   "source": [
    "myVariableName = \"Alex\"  # camel case\n",
    "MyVariableName = \"Alex\"   # pascal case\n",
    "my_varible_name = \"Alex\"   # snake case\n",
    "\n",
    "print(myVariableName)\n",
    "print(MyVariableName)\n",
    "print(my_varible_name)\n"
   ]
  },
  {
   "cell_type": "markdown",
   "metadata": {},
   "source": [
    "soru 1: Asagidaki print ifadelerinin ciktilari nasil gelir?\n",
    "        print(\"Hello world\")\n",
    "        print(\"hello world\")\n",
    "        print(\"Learning Python is very enjoyable')\n",
    "        print(\"I fell happy when I write code wiht python)\n",
    "        print(\"Tirnak isaretleri ile basim belada\")\n",
    "        print(\"\"\" ' \"\"\")"
   ]
  },
  {
   "cell_type": "code",
   "execution_count": 12,
   "metadata": {},
   "outputs": [
    {
     "ename": "SyntaxError",
     "evalue": "unterminated string literal (detected at line 4) (745454407.py, line 4)",
     "output_type": "error",
     "traceback": [
      "\u001b[1;36m  Cell \u001b[1;32mIn[12], line 4\u001b[1;36m\u001b[0m\n\u001b[1;33m    print(\"I fell happy when I write code wiht') # hata verir\u001b[0m\n\u001b[1;37m          ^\u001b[0m\n\u001b[1;31mSyntaxError\u001b[0m\u001b[1;31m:\u001b[0m unterminated string literal (detected at line 4)\n"
     ]
    }
   ],
   "source": [
    "print(\"Hello world\")\n",
    "print(\"hello world\")\n",
    "print('Learning Python is very enjoyable')\n",
    "print(\"I fell happy when I write code wiht') # hata verir\n",
    "print(\"\"\"Tirnak isaretleri ile basim belada\"\"\")\n",
    "print(\"\"\" ' \"\"\")"
   ]
  },
  {
   "cell_type": "markdown",
   "metadata": {},
   "source": [
    "# Degiskenlere Birden Cok Deger Atama\n",
    "* Python da tek satirda birden fazka degiskene deger atanabilir.\n",
    "* Ayni degeri tek satirda birden fazla degiskene atanabilie.\n",
    "\n"
   ]
  },
  {
   "cell_type": "code",
   "execution_count": 13,
   "metadata": {},
   "outputs": [
    {
     "name": "stdout",
     "output_type": "stream",
     "text": [
      "Orange\n",
      "Banana\n",
      "Cherry\n"
     ]
    }
   ],
   "source": [
    "x , y , z = \"Orange\" ,\"Banana\",\"Cherry\"\n",
    "print(x)\n",
    "print(y)\n",
    "print(z)"
   ]
  },
  {
   "cell_type": "code",
   "execution_count": 14,
   "metadata": {},
   "outputs": [
    {
     "name": "stdout",
     "output_type": "stream",
     "text": [
      "Orange\n",
      "Orange\n",
      "Orange\n"
     ]
    }
   ],
   "source": [
    "x =y =z = \"Orange\"\n",
    "print(x)\n",
    "print(y)\n",
    "print(z)"
   ]
  },
  {
   "cell_type": "markdown",
   "metadata": {},
   "source": [
    "# Print Fonksiyonu\n",
    "* print fonksiyonu---> degiskenlerin ciktisini almak icin kullanilir.\n",
    "* print()birden fazla degiskenin ciktisini virgulle alinabilir.\n",
    "* print() fonksiyonuna gonderdigimiz degerlere parametre denir.\n",
    "* print()  fonksiyonu 256 tane parametre alabilmektedir.\n"
   ]
  },
  {
   "cell_type": "code",
   "execution_count": 15,
   "metadata": {},
   "outputs": [
    {
     "name": "stdout",
     "output_type": "stream",
     "text": [
      "5\n",
      "Merhaba Dunya\n"
     ]
    }
   ],
   "source": [
    "x = 5\n",
    "y =\"Merhaba Dunya\"\n",
    "print(x)\n",
    "print(y)"
   ]
  },
  {
   "cell_type": "code",
   "execution_count": 24,
   "metadata": {},
   "outputs": [
    {
     "name": "stdout",
     "output_type": "stream",
     "text": [
      "Pythoniswonderful\n"
     ]
    }
   ],
   "source": [
    "x = \"Python\"\n",
    "y = \"is\"\n",
    "z = \"wonderful\"\n",
    "print(x + y  + z)"
   ]
  },
  {
   "cell_type": "markdown",
   "metadata": {},
   "source": [
    "#### soru : Isim ve soyisminizi iceren birer degisken olusturun.Bu degiskeni ekrana yazdirin.\n",
    "#### soru: icinde bulundugunuz yili ve dogdugunuz yili iceren birer degisken olusturun.Degiskenkenlerin farkini yeni bir degiskene atasyip yeni degiskeni ekrana yazdirin."
   ]
  },
  {
   "cell_type": "code",
   "execution_count": 25,
   "metadata": {},
   "outputs": [
    {
     "name": "stdout",
     "output_type": "stream",
     "text": [
      "Ali Candan\n"
     ]
    }
   ],
   "source": [
    "ad = \"Ali\"\n",
    "soyad = \"Candan\"\n",
    "print(ad,soyad)"
   ]
  },
  {
   "cell_type": "code",
   "execution_count": 26,
   "metadata": {},
   "outputs": [
    {
     "name": "stdout",
     "output_type": "stream",
     "text": [
      "Yasiniz: 53\n"
     ]
    }
   ],
   "source": [
    "simdikiYil = 2023\n",
    "dogumTarihi = 1970\n",
    "yas = simdikiYil - dogumTarihi\n",
    "print(\"Yasiniz:\", yas)"
   ]
  },
  {
   "cell_type": "markdown",
   "metadata": {},
   "source": [
    "## PRINT() FONKSIYONU\n",
    "### print() parametreleri\n",
    "#### sep()parametresi \n",
    "   isimli parametredir.Print fonksiyonuna verdigimiz parametleri direk olarak verirken\n",
    "   isimli parametre verebilmek icin degisken olusturur gibi esittir \"=\" operatoru kullanmamiz gerekir.Yani atama operatorunu.Neden\n",
    "   Cunku yeni bir degisken tanimliyore olmamiz.Isimli parametlerin varsayilan bir  degeri vardir.Isimli parametreye yeni bir deger verirsek degiskeni de yeniden tanimlami oluruz.\n",
    "   \n"
   ]
  },
  {
   "cell_type": "code",
   "execution_count": 27,
   "metadata": {},
   "outputs": [
    {
     "name": "stdout",
     "output_type": "stream",
     "text": [
      "Merhaba_selam_python\n"
     ]
    }
   ],
   "source": [
    "print(\"Merhaba\", \"selam\", \"python\", sep = \"_\")\n",
    "\n",
    "\"\"\" sep() parametresine _(alt cizgi) deger olarak verildi.\n",
    " Isimsiz olarak verilen tum argumanlarin arasina geldi.\n",
    " Yani biz sep parametresine hangi degeri  verirsek, bu deger print() fonksiyonuna \n",
    "vermis oldugumuz argumanlarin arasina gelecektir.\"\"\""
   ]
  },
  {
   "cell_type": "code",
   "execution_count": 28,
   "metadata": {},
   "outputs": [
    {
     "name": "stdout",
     "output_type": "stream",
     "text": [
      "Bu fonksiyonda sep parametresi  yok\n",
      "Bu,**fonksiyonda**sep parametresi**var\n"
     ]
    }
   ],
   "source": [
    "print(\"Bu\",\"fonksiyonda\" , \"sep parametresi \" ,\"yok\")\n",
    "print(\"Bu,\",\"fonksiyonda\", \"sep parametresi\", \"var\",sep =\"**\")\n",
    "\n",
    "\"\"\"ilk fonksiyonda sep parametresi atamadik ve aynen yazdirdi.\n",
    "Ancak 2.fonksiyonda sep fonksiyonuna ** karakterini arguman olarak atadik\n",
    "Virgul olarak atadigimiz yerlere ** karakterini koyarak ekrana yazildi.\"\"\""
   ]
  },
  {
   "cell_type": "markdown",
   "metadata": {},
   "source": [
    "## END() PARAMETRESI\n",
    "*print() fonksiyonda ekrana cikti alt alta yazilir.Bu da end parametresi sayesinde olur.Varsayilan degerdir.\n",
    "\n",
    "*Ancak biz bu parametrenin varsayilani degeri ile oynarsak ciktilar alt alta degil \n",
    "yan yana yazilir.\n",
    "\n",
    "* end() parametresi tam olarak ne is yapar?\n",
    "* end() parametres, print() fonksiyonuna verfdigimiz tum argumanlardan sonra yani en son yazilacak degerdir.Alt satira inme islemi de bu sekilde yapiliyor.\n",
    "Alt satira inmek icin kullanilan kacis dizisi,end parametresinin varsayilan degeridir.\n",
    "End parametresine deger vermezsek son islem olarak alt satira iner."
   ]
  },
  {
   "cell_type": "code",
   "execution_count": 29,
   "metadata": {},
   "outputs": [
    {
     "name": "stdout",
     "output_type": "stream",
     "text": [
      "Python cok kolay\n",
      "Python gercekten cok kolay\n",
      "Python Javadan kolay\n"
     ]
    }
   ],
   "source": [
    "print(\"Python cok kolay\")\n",
    "print(\"Python gercekten cok kolay\")\n",
    "print(\"Python Javadan kolay\")\n",
    "# Burada ekrana ciktilar alt alta geldi."
   ]
  },
  {
   "cell_type": "code",
   "execution_count": 33,
   "metadata": {},
   "outputs": [
    {
     "name": "stdout",
     "output_type": "stream",
     "text": [
      "Python cok kolay\n",
      "Python gercekten kolay--Python Javadan kolay\n"
     ]
    }
   ],
   "source": [
    "print(\"Python cok kolay\")\n",
    "print(\"Python gercekten kolay\", end= \"--\") \n",
    "print(\"Python Javadan kolay\")\n",
    "# 1.satir  aynen yazdi.Ancak 2.satirda end parametresini \n",
    "# 2.satira end parametresini koydugumuzda \n",
    "# 3.satirin varsayilan degeri end parametresyle oynadik.\n"
   ]
  },
  {
   "cell_type": "code",
   "execution_count": 35,
   "metadata": {},
   "outputs": [
    {
     "name": "stdout",
     "output_type": "stream",
     "text": [
      "Merhaba  Dunya\n",
      "Ikici satir\n"
     ]
    }
   ],
   "source": [
    "print(\"Merhaba  Dunya\", end = \"\\n\")\n",
    "print(\"Ikici satir\")\n",
    "\n",
    "# burada end parametresini kurcaladik.Ama alt satira inme islemi gerceklesti.\n",
    "#Cunku end parametresi ile oynama yapmadik.End parametresinin varsayilan hali.\n",
    "# Yani alt satira inmek icin \"\\n\" kacis dizisi boyle oluyor"
   ]
  },
  {
   "cell_type": "code",
   "execution_count": 2,
   "metadata": {},
   "outputs": [
    {
     "name": "stdout",
     "output_type": "stream",
     "text": [
      "Merhaba Dunya\n",
      "---->Ikinci satir\n"
     ]
    }
   ],
   "source": [
    "print(\"Merhaba Dunya\", end =\"\\n---->\")\n",
    "print(\"Ikinci satir\")\n",
    "\n",
    "# end parametresine karakter ekledik .Ikinci satir ekledigimiz karakter ile basladi.\n",
    "#Cunlu ilk olarak \"\\n\" kacis dizisini gorunce python alt satira indi.Fakat end parametresine verdigimiz\n",
    "#arguman bitmedi.Devaminda \"--->\"karakteri vardive bunlari da alt satira ekledi."
   ]
  },
  {
   "cell_type": "code",
   "execution_count": 1,
   "metadata": {},
   "outputs": [
    {
     "name": "stdout",
     "output_type": "stream",
     "text": [
      "hello world--35**40**75\n",
      "son satir\n"
     ]
    }
   ],
   "source": [
    "print(\"hello world\",end =\"--\")\n",
    "print(\"35\",40,\"75\", sep = \"**\")\n",
    "print(\"son satir\")"
   ]
  }
 ],
 "metadata": {
  "kernelspec": {
   "display_name": "Python 3",
   "language": "python",
   "name": "python3"
  },
  "language_info": {
   "codemirror_mode": {
    "name": "ipython",
    "version": 3
   },
   "file_extension": ".py",
   "mimetype": "text/x-python",
   "name": "python",
   "nbconvert_exporter": "python",
   "pygments_lexer": "ipython3",
   "version": "3.12.0"
  }
 },
 "nbformat": 4,
 "nbformat_minor": 2
}
