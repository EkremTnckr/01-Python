{
 "cells": [
  {
   "cell_type": "markdown",
   "metadata": {},
   "source": [
    "# PYTHON DATA TYPES(PYTHON VERI TURLERI)\n",
    "\n",
    "*Programlamada veri turu onemli bir kavramdir.\n",
    "* Veri, belirli bir nesne hakkındaki gerçeklerin temsilidir.\n",
    "* ornek:\n",
    "*ogrenci verileri :isim, cinsiyet, sınıf, notlar, yaş, ücret vb.\n",
    "*kutuphanedeki kitap verileri: başlık, yazar, yayıncı, fiyat, sayfalar, yayın yılı vb.\n",
    "*ofisteki calisan verlieri : isim, unvan, maaş, departman, şube vb.\n",
    "* Veri türü bir tür değeri temsil eder ve üzerinde hangi işlemlerin yapılabileceğini belirler. Sayısal, sayısal olmayan ve Boolean (doğru/yanlış) veriler en belirgin veri türleridir.\n",
    "\n",
    "## Python da Veri Turleri\n",
    "\n",
    " ### Text type ----------> str\n",
    " ### Numeric types-------> int, float,complex\n",
    " ### Sequens types-------> list,tuple,range\n",
    " ### Mapping type--------> dict\n",
    " ### Set types-----------> set, frozenset\n",
    " ### Boolean type--------> bool\n",
    " ### Binary type---------> bytes, bytearray, memoryview\n",
    " ### None type-----------> NoneType\n",
    "\n"
   ]
  },
  {
   "cell_type": "markdown",
   "metadata": {},
   "source": [
    "# Python Sayısal Veri Türü\n",
    "\n",
    "\n",
    "*Python dört farklı sayısal türü destekler ve her birinin Python kütüphanesinde sırasıyla \n",
    "int\n",
    "\n",
    "bool\n",
    "\n",
    "float \n",
    "\n",
    "complex \n",
    " \n",
    "*Python sayısal veri türleri sayısal değerleri saklar. Sayı nesneleri, onlara bir değer atadığınızda oluşturulur. \n",
    "\n",
    "* Python da herhangi bir nesnenin turunu \"type()\" islevi kullanarak ogrenilir."
   ]
  },
  {
   "cell_type": "code",
   "execution_count": 1,
   "metadata": {},
   "outputs": [
    {
     "data": {
      "text/plain": [
       "int"
      ]
     },
     "execution_count": 1,
     "metadata": {},
     "output_type": "execute_result"
    }
   ],
   "source": [
    "x =20    # int\n",
    "type(x)"
   ]
  },
  {
   "cell_type": "code",
   "execution_count": 2,
   "metadata": {},
   "outputs": [
    {
     "data": {
      "text/plain": [
       "float"
      ]
     },
     "execution_count": 2,
     "metadata": {},
     "output_type": "execute_result"
    }
   ],
   "source": [
    "x =20.5  # float\n",
    "type(x)"
   ]
  },
  {
   "cell_type": "code",
   "execution_count": 1,
   "metadata": {},
   "outputs": [
    {
     "data": {
      "text/plain": [
       "complex"
      ]
     },
     "execution_count": 1,
     "metadata": {},
     "output_type": "execute_result"
    }
   ],
   "source": [
    "x = 1j # complex\n",
    "type(x)"
   ]
  },
  {
   "cell_type": "code",
   "execution_count": 4,
   "metadata": {},
   "outputs": [
    {
     "data": {
      "text/plain": [
       "bool"
      ]
     },
     "execution_count": 4,
     "metadata": {},
     "output_type": "execute_result"
    }
   ],
   "source": [
    "x = True \n",
    "type(x)"
   ]
  },
  {
   "cell_type": "markdown",
   "metadata": {},
   "source": [
    "# int --->INTEGER\n",
    "* Matematikte tam sayilar olarak python da int olarak ifade edilir."
   ]
  },
  {
   "cell_type": "code",
   "execution_count": 5,
   "metadata": {},
   "outputs": [
    {
     "data": {
      "text/plain": [
       "int"
      ]
     },
     "execution_count": 5,
     "metadata": {},
     "output_type": "execute_result"
    }
   ],
   "source": [
    "x =1 # int\n",
    "type(x)"
   ]
  },
  {
   "cell_type": "markdown",
   "metadata": {},
   "source": [
    "# float -->\n",
    "*Kayan noktali sayi yani ondalik sayidir."
   ]
  },
  {
   "cell_type": "code",
   "execution_count": 6,
   "metadata": {},
   "outputs": [
    {
     "data": {
      "text/plain": [
       "float"
      ]
     },
     "execution_count": 6,
     "metadata": {},
     "output_type": "execute_result"
    }
   ],
   "source": [
    "x =5.0\n",
    "type(x)"
   ]
  },
  {
   "cell_type": "markdown",
   "metadata": {},
   "source": [
    "# Complex -->Karmasik Sayi \n",
    "*Karmaşık bir sayı gerçek ve sanal olmak üzere iki bölümden oluşur .\n",
    "* '+' veya '-' işaretleri ile ayrılırlar. Sanal kısma sanal sayı olan 'j' eklenir. -1'in kareköku  sanal sayı olarak tanımlanır.\n",
    "* Python'da karmaşık sayı \"x+yj\" olarak temsil edilir; burada x gerçek kısımdır ve y sanal kısımdır. Yani 5+6j karmaşık bir sayıdır.\n",
    "* Karmaşık sayılar sanal kısmı \"j\" ile yazılır"
   ]
  },
  {
   "cell_type": "code",
   "execution_count": 2,
   "metadata": {},
   "outputs": [
    {
     "name": "stdout",
     "output_type": "stream",
     "text": [
      "<class 'complex'>\n",
      "<class 'complex'>\n",
      "<class 'complex'>\n"
     ]
    }
   ],
   "source": [
    "x = 3 + 5j\n",
    "y = 5j\n",
    "z = -5j\n",
    "print(type(x))\n",
    "print(type(y))\n",
    "print(type(z))"
   ]
  },
  {
   "cell_type": "markdown",
   "metadata": {},
   "source": [
    "# bool --> BOOLEAN\n",
    "*Boolean sayısının  True ve False anahtar sözcükleriyle temsil edilir.\n",
    "*Yalnızca iki olası değeri vardır . Sırasıyla 1 ve 0 tam sayılarına karşılık gelirler."
   ]
  },
  {
   "cell_type": "code",
   "execution_count": 9,
   "metadata": {},
   "outputs": [
    {
     "name": "stdout",
     "output_type": "stream",
     "text": [
      "<class 'bool'>\n",
      "<class 'bool'>\n"
     ]
    }
   ],
   "source": [
    "b = True\n",
    "c = False\n",
    "print(type(b))\n",
    "print(type(c))"
   ]
  },
  {
   "cell_type": "markdown",
   "metadata": {},
   "source": [
    "# Random Number (Rastgele Sayi)\n",
    "*Python'un  rastgele sayı oluşturma işlevi yoktur , ancak Python'un rastgele sayılar \n",
    "\n",
    "oluşturmak için kullanılabilecek random()yerleşik bir modülü vardır :random"
   ]
  },
  {
   "cell_type": "markdown",
   "metadata": {},
   "source": [
    "ornek : random modulu  içe aktarın ve 1 ile 9 arasında rastgele bir sayı görüntüleyin"
   ]
  },
  {
   "cell_type": "code",
   "execution_count": 10,
   "metadata": {},
   "outputs": [
    {
     "name": "stdout",
     "output_type": "stream",
     "text": [
      "2\n"
     ]
    }
   ],
   "source": [
    "import random\n",
    "print(random.randrange(1,10))"
   ]
  }
 ],
 "metadata": {
  "kernelspec": {
   "display_name": "Python 3",
   "language": "python",
   "name": "python3"
  },
  "language_info": {
   "codemirror_mode": {
    "name": "ipython",
    "version": 3
   },
   "file_extension": ".py",
   "mimetype": "text/x-python",
   "name": "python",
   "nbconvert_exporter": "python",
   "pygments_lexer": "ipython3",
   "version": "3.12.0"
  }
 },
 "nbformat": 4,
 "nbformat_minor": 2
}
