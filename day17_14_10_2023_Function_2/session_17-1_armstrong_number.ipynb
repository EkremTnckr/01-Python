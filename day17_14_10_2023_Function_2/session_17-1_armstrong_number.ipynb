{
 "cells": [
  {
   "cell_type": "markdown",
   "metadata": {},
   "source": [
    "SORU : Kullanicin girdigi bir sayinin armstrong sayi olup olmadigini gosteren bir algoritma yaziniz."
   ]
  },
  {
   "cell_type": "code",
   "execution_count": null,
   "metadata": {},
   "outputs": [],
   "source": [
    "1 ^ 3 + 5^3 + 5^3 = 1+ 125 + 27 =153 # Armstrong sayidir"
   ]
  },
  {
   "cell_type": "code",
   "execution_count": 2,
   "metadata": {},
   "outputs": [
    {
     "name": "stdout",
     "output_type": "stream",
     "text": [
      "Girdiginiz sayi:56 Armstron bir sayi degildir\n",
      "Girdiginiz sayi:56 Armstron bir sayi degildir\n"
     ]
    }
   ],
   "source": [
    "\n",
    "sayi = input(\"Bir sayi giriniz ve Armstron olu polmadigini ogrenin\")\n",
    "basamak_sayisi =len(sayi)\n",
    "\n",
    "toplam = 0 \n",
    "\n",
    "for i in sayi:\n",
    "    toplam += int(i) ** basamak_sayisi ## toplam = toplam + int(i) ** basamak_sayisi\n",
    "    \n",
    "    if toplam ==int(sayi):\n",
    "        print(f\"Girdiginiz sayi:{sayi} Armstrong bir sayidir\")\n",
    "    else:\n",
    "        print(f\"Girdiginiz sayi:{sayi} Armstron bir sayi degildir\")"
   ]
  },
  {
   "cell_type": "code",
   "execution_count": 58,
   "metadata": {},
   "outputs": [
    {
     "name": "stdout",
     "output_type": "stream",
     "text": [
      "Girdiğiniz sayı: 45 Armstrong bir sayı değildir.\n"
     ]
    }
   ],
   "source": [
    "sayı = input(\"bir sayı girin armstrong olup olmadığını öğrenin\")\n",
    "\n",
    "basamak_sayısı = len(sayı)\n",
    "\n",
    "toplam = 0\n",
    "\n",
    "for i in sayı:\n",
    "\n",
    "    toplam += int(i) ** basamak_sayısı # toplam = toplam + int(i) ** basamak_sayısı\n",
    "\n",
    "\n",
    "if toplam == int(sayı):\n",
    "    print(f\"Girdiğiniz sayı: {sayı} Armstrong bir sayıdır\")\n",
    "else:\n",
    "    print(f\"Girdiğiniz sayı: {sayı} Armstrong bir sayı değildir.\")"
   ]
  },
  {
   "cell_type": "code",
   "execution_count": null,
   "metadata": {},
   "outputs": [],
   "source": [
    "def find_armstrong(sayi):\n",
    "    sayi =str(sayi)\n",
    "    basamak_sayisi =len(sayi)\n",
    "    toplam = 0\n",
    "    for i in sayi:\n",
    "        toplam += int(i)** basamak_sayisi # toplam =toplam +int(i) ** basamak_sayisi\n",
    "    if toplam == int(sayi):\n",
    "        return int(sayi)\n",
    "    else:\n",
    "        return False    "
   ]
  }
 ],
 "metadata": {
  "kernelspec": {
   "display_name": "Python 3",
   "language": "python",
   "name": "python3"
  },
  "language_info": {
   "codemirror_mode": {
    "name": "ipython",
    "version": 3
   },
   "file_extension": ".py",
   "mimetype": "text/x-python",
   "name": "python",
   "nbconvert_exporter": "python",
   "pygments_lexer": "ipython3",
   "version": "3.11.6"
  }
 },
 "nbformat": 4,
 "nbformat_minor": 2
}
