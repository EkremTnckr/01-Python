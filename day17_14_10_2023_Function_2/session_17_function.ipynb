{
 "cells": [
  {
   "cell_type": "markdown",
   "metadata": {},
   "source": [
    "# Function()\n",
    "\n",
    "\n",
    "Fonksiyonlarve metotlar , programlarda tekrar tekrar kullanilcak ve istenilen yerde\n",
    "cagrilabilecek , onceden tanimladigimiz yapilardir.<br>\n",
    "syntx i<br>\n",
    "    def fonk_ismi(parametre/parametreler):<br>\n",
    "        islem_satiri/satirlari\n"
   ]
  },
  {
   "cell_type": "code",
   "execution_count": 1,
   "metadata": {},
   "outputs": [],
   "source": [
    "def kareler_toplami(x,y):\n",
    "    print(x ** y + y ** 2)"
   ]
  },
  {
   "cell_type": "code",
   "execution_count": 2,
   "metadata": {},
   "outputs": [
    {
     "data": {
      "text/plain": [
       "<function __main__.kareler_toplami(x, y)>"
      ]
     },
     "execution_count": 2,
     "metadata": {},
     "output_type": "execute_result"
    }
   ],
   "source": [
    "kareler_toplami"
   ]
  },
  {
   "cell_type": "code",
   "execution_count": 3,
   "metadata": {},
   "outputs": [
    {
     "data": {
      "text/plain": [
       "<function print(*args, sep=' ', end='\\n', file=None, flush=False)>"
      ]
     },
     "execution_count": 3,
     "metadata": {},
     "output_type": "execute_result"
    }
   ],
   "source": [
    "print"
   ]
  },
  {
   "cell_type": "code",
   "execution_count": null,
   "metadata": {},
   "outputs": [],
   "source": [
    "kareler_toplami() # fonk.cagirip icine paramettre yazilmazsa hata verir."
   ]
  },
  {
   "cell_type": "code",
   "execution_count": 6,
   "metadata": {},
   "outputs": [
    {
     "name": "stdout",
     "output_type": "stream",
     "text": [
      "765\n"
     ]
    }
   ],
   "source": [
    "kareler_toplami(3,6)"
   ]
  },
  {
   "cell_type": "code",
   "execution_count": 43,
   "metadata": {},
   "outputs": [],
   "source": [
    "# aciklama def ten sonra yapilmali\n",
    "def kareler_toplami_2(x,y):\n",
    "    # bu fonksiyon iki sayinin karelerini toplar.\n",
    "    print(x ** 2 + y ** 2 )\n",
    "    "
   ]
  },
  {
   "cell_type": "code",
   "execution_count": 8,
   "metadata": {},
   "outputs": [
    {
     "data": {
      "text/plain": [
       "<function __main__.kareler_toplami_2(x, y)>"
      ]
     },
     "execution_count": 8,
     "metadata": {},
     "output_type": "execute_result"
    }
   ],
   "source": [
    "kareler_toplami_2"
   ]
  },
  {
   "cell_type": "code",
   "execution_count": 9,
   "metadata": {},
   "outputs": [
    {
     "name": "stdout",
     "output_type": "stream",
     "text": [
      "25\n"
     ]
    }
   ],
   "source": [
    "kareler_toplami_2(3,4)"
   ]
  },
  {
   "cell_type": "code",
   "execution_count": 10,
   "metadata": {},
   "outputs": [],
   "source": [
    "def multiply (a,b):\n",
    "    \"\"\"Bu fonksiyon iki sayinin carpimini verir.\"\"\"\n",
    "    print(a * b)"
   ]
  },
  {
   "cell_type": "code",
   "execution_count": 11,
   "metadata": {},
   "outputs": [
    {
     "name": "stdout",
     "output_type": "stream",
     "text": [
      "20\n"
     ]
    }
   ],
   "source": [
    "multiply(4,5)"
   ]
  },
  {
   "cell_type": "code",
   "execution_count": 12,
   "metadata": {},
   "outputs": [
    {
     "name": "stdout",
     "output_type": "stream",
     "text": [
      "12\n",
      "None\n"
     ]
    }
   ],
   "source": [
    "degisken_1 = multiply(3,4)\n"
   ]
  },
  {
   "cell_type": "code",
   "execution_count": 44,
   "metadata": {},
   "outputs": [
    {
     "name": "stdout",
     "output_type": "stream",
     "text": [
      "None\n"
     ]
    }
   ],
   "source": [
    "print(degisken_1) # none verdi"
   ]
  },
  {
   "cell_type": "markdown",
   "metadata": {},
   "source": [
    "### print de islem bir kere olur biter\n",
    "### return ise bize bir sonuc dondurur ve her zaman bu sonucu verir\n",
    "### print ile return farki\n",
    "### print sadece show eder gosterir ve biter.Eger bu fonksiyon baska bir yerde kullanilacaksa return kullanlilr.Baska bir yerde kullanilmayacaksa print kullanilabilr."
   ]
  },
  {
   "cell_type": "code",
   "execution_count": 13,
   "metadata": {},
   "outputs": [],
   "source": [
    "def multiply_2 (a,b):\n",
    "    \"\"\"Bu fonksiyon iki sayinin carpimini verir.\"\"\"\n",
    "    return(a * b)"
   ]
  },
  {
   "cell_type": "code",
   "execution_count": 15,
   "metadata": {},
   "outputs": [
    {
     "data": {
      "text/plain": [
       "12"
      ]
     },
     "execution_count": 15,
     "metadata": {},
     "output_type": "execute_result"
    }
   ],
   "source": [
    "multiply_2(3,4)"
   ]
  },
  {
   "cell_type": "code",
   "execution_count": 16,
   "metadata": {},
   "outputs": [],
   "source": [
    "degisken_2 = multiply_2(3,4)"
   ]
  },
  {
   "cell_type": "code",
   "execution_count": 17,
   "metadata": {},
   "outputs": [
    {
     "data": {
      "text/plain": [
       "12"
      ]
     },
     "execution_count": 17,
     "metadata": {},
     "output_type": "execute_result"
    }
   ],
   "source": [
    "degisken_2"
   ]
  },
  {
   "cell_type": "markdown",
   "metadata": {},
   "source": [
    "## return ve print farki\n",
    "print()  bir kere yazar ve biter<br>\n",
    "retur() function larda kullanmak istedigimiz fonk.baska bir yerde kullanmak istersek  return kullanmamiz gerekiyor."
   ]
  },
  {
   "cell_type": "code",
   "execution_count": 18,
   "metadata": {},
   "outputs": [],
   "source": [
    "# fonksiyon yazma kistedik ama icerisne parametre vermek istemiyoruz \n",
    "# parametresiz calisabilir.\n",
    "def neset_baba():\n",
    "    print(\"Kadinlar insandir,biz insanoglu\")"
   ]
  },
  {
   "cell_type": "code",
   "execution_count": 19,
   "metadata": {},
   "outputs": [
    {
     "name": "stdout",
     "output_type": "stream",
     "text": [
      "Kadinlar insandir,biz insanoglu\n"
     ]
    }
   ],
   "source": [
    "neset_baba()"
   ]
  },
  {
   "cell_type": "code",
   "execution_count": 20,
   "metadata": {},
   "outputs": [],
   "source": [
    "def neset_baba_2():\n",
    "    return \"Kadinlar insandir biz insanoglu\"\n",
    "    "
   ]
  },
  {
   "cell_type": "code",
   "execution_count": 21,
   "metadata": {},
   "outputs": [
    {
     "data": {
      "text/plain": [
       "'Kadinlar insandir biz insanoglu'"
      ]
     },
     "execution_count": 21,
     "metadata": {},
     "output_type": "execute_result"
    }
   ],
   "source": [
    "neset_baba_2()"
   ]
  },
  {
   "cell_type": "markdown",
   "metadata": {},
   "source": [
    " 4 islem yapan Hesap makinasi fonksiyonu "
   ]
  },
  {
   "cell_type": "markdown",
   "metadata": {},
   "source": [
    "soru :  Dort islem yapabilen bir hesap makinasi fonk.yapiniz"
   ]
  },
  {
   "cell_type": "code",
   "execution_count": 22,
   "metadata": {},
   "outputs": [],
   "source": [
    "def hesap_makinasi(sayi1,opr,sayi2):\n",
    "    \n",
    "    if opr == \"+\":\n",
    "        return sayi1 + sayi2 \n",
    "    elif opr == \"-\":\n",
    "        return sayi1 - sayi2\n",
    "    elif opr == \"x\":\n",
    "        return sayi1 * sayi2\n",
    "    elif opr == \"/\":\n",
    "        return sayi1 / sayi2\n",
    "    else:\n",
    "        return \"hatali giris yaptiniz\""
   ]
  },
  {
   "cell_type": "code",
   "execution_count": 24,
   "metadata": {},
   "outputs": [
    {
     "data": {
      "text/plain": [
       "10"
      ]
     },
     "execution_count": 24,
     "metadata": {},
     "output_type": "execute_result"
    }
   ],
   "source": [
    "hesap_makinasi(3, \"+\", 7)"
   ]
  },
  {
   "cell_type": "code",
   "execution_count": 71,
   "metadata": {},
   "outputs": [
    {
     "data": {
      "text/plain": [
       "'techproeducation'"
      ]
     },
     "execution_count": 71,
     "metadata": {},
     "output_type": "execute_result"
    }
   ],
   "source": [
    "hesap_makinasi(\"techpro\", \"+\", \"education\")"
   ]
  },
  {
   "cell_type": "code",
   "execution_count": null,
   "metadata": {},
   "outputs": [],
   "source": [
    "hesap_makinasi(3,7,\"+\") # position arguman  hatasi \n",
    "\n",
    "# hata verir cunku fonksiyonda + operatoru  ikici sirada (opr)"
   ]
  },
  {
   "cell_type": "code",
   "execution_count": 57,
   "metadata": {},
   "outputs": [],
   "source": [
    "def my_len(x):\n",
    "    \"\"\"Bu fonksiyon icine girilen iterable degerin uzunlugunu verir\"\"\"\n",
    "    counter = 0\n",
    "    for i in x:\n",
    "        counter +=1\n",
    "    return counter    "
   ]
  },
  {
   "cell_type": "code",
   "execution_count": 58,
   "metadata": {},
   "outputs": [
    {
     "data": {
      "text/plain": [
       "7"
      ]
     },
     "execution_count": 58,
     "metadata": {},
     "output_type": "execute_result"
    }
   ],
   "source": [
    "my_len(\"Techpro\")"
   ]
  },
  {
   "cell_type": "code",
   "execution_count": 59,
   "metadata": {},
   "outputs": [],
   "source": [
    "def int_len(y):\n",
    "    \"\"\"Bu fonksiyon icine girilen integer  degerin uzunlugunu verir\"\"\"\n",
    "    counter = 0\n",
    "    for i in str(y):\n",
    "        counter +=1\n",
    "    return counter  "
   ]
  },
  {
   "cell_type": "code",
   "execution_count": 61,
   "metadata": {},
   "outputs": [
    {
     "data": {
      "text/plain": [
       "4"
      ]
     },
     "execution_count": 61,
     "metadata": {},
     "output_type": "execute_result"
    }
   ],
   "source": [
    "int_len(1536)"
   ]
  },
  {
   "cell_type": "code",
   "execution_count": 67,
   "metadata": {},
   "outputs": [
    {
     "data": {
      "text/plain": [
       "'Return the number of items in a container.'"
      ]
     },
     "execution_count": 67,
     "metadata": {},
     "output_type": "execute_result"
    }
   ],
   "source": [
    "len.__doc__"
   ]
  },
  {
   "cell_type": "code",
   "execution_count": 68,
   "metadata": {},
   "outputs": [
    {
     "data": {
      "text/plain": [
       "'Bu fonksiyon icine girilen integer  degerin uzunlugunu verir'"
      ]
     },
     "execution_count": 68,
     "metadata": {},
     "output_type": "execute_result"
    }
   ],
   "source": [
    "int_len.__doc__"
   ]
  },
  {
   "cell_type": "code",
   "execution_count": 70,
   "metadata": {},
   "outputs": [
    {
     "name": "stdout",
     "output_type": "stream",
     "text": [
      "Help on function int_len in module __main__:\n",
      "\n",
      "int_len(y)\n",
      "    Bu fonksiyon icine girilen integer  degerin uzunlugunu verir\n",
      "\n"
     ]
    }
   ],
   "source": [
    "help(int_len)\n"
   ]
  },
  {
   "cell_type": "code",
   "execution_count": 72,
   "metadata": {},
   "outputs": [
    {
     "name": "stdout",
     "output_type": "stream",
     "text": [
      "tek sayilar:[1, 15, 5, 89, 45, 71, 45, 95, 61, 1, 15, 5, 89, 45, 71, 45, 95, 61]\n",
      "cift sayilar[2, 36, 62, 52, 30, 56, 48]\n"
     ]
    }
   ],
   "source": [
    "sayilar_listesi = [1,15,2,36,5,89,45,62,52,71,30,56,45,95,61,48]\n",
    "odd =[]\n",
    "evens =[]\n",
    "\n",
    "for i in sayilar_listesi:\n",
    "    if i %2 :\n",
    "        odds.append(i)\n",
    "    else:\n",
    "        evens.append(i)\n",
    "print(f\"tek sayilar:{odds}\")\n",
    "print(f\"cift sayilar{evens}\")        "
   ]
  },
  {
   "cell_type": "markdown",
   "metadata": {},
   "source": [
    "soru : bir fonksiyon yazarak yazilan fonk ile cift istersek cift sayilari<br>\n",
    "tek istersek tek sayilari  bize gostersin"
   ]
  },
  {
   "cell_type": "code",
   "execution_count": 76,
   "metadata": {},
   "outputs": [],
   "source": [
    "def tek_cift_ayirici(liste,istek):\n",
    "     odd =[]\n",
    "     evens =[]\n",
    "\n",
    "     for i in liste:\n",
    "         if i %2 :\n",
    "             odds.append(i)\n",
    "         else:\n",
    "             evens.append(i)\n",
    "     if istek == \"cift\":\n",
    "         return evens\n",
    "     elif istek == \"tek\":\n",
    "         return odds   \n",
    " "
   ]
  },
  {
   "cell_type": "code",
   "execution_count": 77,
   "metadata": {},
   "outputs": [
    {
     "data": {
      "text/plain": [
       "[1,\n",
       " 15,\n",
       " 5,\n",
       " 89,\n",
       " 45,\n",
       " 71,\n",
       " 45,\n",
       " 95,\n",
       " 61,\n",
       " 1,\n",
       " 15,\n",
       " 5,\n",
       " 89,\n",
       " 45,\n",
       " 71,\n",
       " 45,\n",
       " 95,\n",
       " 61,\n",
       " 1,\n",
       " 15,\n",
       " 5,\n",
       " 89,\n",
       " 45,\n",
       " 71,\n",
       " 45,\n",
       " 95,\n",
       " 61]"
      ]
     },
     "execution_count": 77,
     "metadata": {},
     "output_type": "execute_result"
    }
   ],
   "source": [
    "tek_cift_ayirici([1,15,2,36,5,89,45,62,52,71,30,56,45,95,61,48],\"tek\")"
   ]
  },
  {
   "cell_type": "code",
   "execution_count": 78,
   "metadata": {},
   "outputs": [
    {
     "data": {
      "text/plain": [
       "[2, 36, 62, 52, 30, 56, 48]"
      ]
     },
     "execution_count": 78,
     "metadata": {},
     "output_type": "execute_result"
    }
   ],
   "source": [
    "liste = [1,15,2,36,5,89,45,62,52,71,30,56,45,95,61,48]\n",
    "tek_cift_ayirici(liste,\"cift\")"
   ]
  },
  {
   "cell_type": "code",
   "execution_count": null,
   "metadata": {},
   "outputs": [],
   "source": [
    "liste = [1,15,2,36,5,89,45,62,52,71,30,56,45,95,61,48]\n",
    "tek_cift_ayirici(liste,\"tek\")"
   ]
  },
  {
   "cell_type": "code",
   "execution_count": 45,
   "metadata": {},
   "outputs": [],
   "source": [
    "liste =[\"ayse\",\"murat\",\"sercan\"]  "
   ]
  },
  {
   "cell_type": "code",
   "execution_count": 46,
   "metadata": {},
   "outputs": [
    {
     "data": {
      "text/plain": [
       "[(100, 'ayse'), (101, 'murat'), (102, 'sercan')]"
      ]
     },
     "execution_count": 46,
     "metadata": {},
     "output_type": "execute_result"
    }
   ],
   "source": [
    "list(enumerate(liste,100))"
   ]
  },
  {
   "cell_type": "code",
   "execution_count": 30,
   "metadata": {},
   "outputs": [
    {
     "ename": "TypeError",
     "evalue": "'list' object cannot be interpreted as an integer",
     "output_type": "error",
     "traceback": [
      "\u001b[1;31m---------------------------------------------------------------------------\u001b[0m",
      "\u001b[1;31mTypeError\u001b[0m                                 Traceback (most recent call last)",
      "\u001b[1;32md:\\BATCH223-DATA-SCIENT\\python_batch223\\day17_14_10_2023_Function_2\\session_17_function.ipynb Cell 30\u001b[0m line \u001b[0;36m1\n\u001b[1;32m----> <a href='vscode-notebook-cell:/d%3A/BATCH223-DATA-SCIENT/python_batch223/day17_14_10_2023_Function_2/session_17_function.ipynb#X41sZmlsZQ%3D%3D?line=0'>1</a>\u001b[0m \u001b[39mlist\u001b[39m(\u001b[39menumerate\u001b[39;49m(\u001b[39m100\u001b[39;49m,liste))  \u001b[39m# siralama hatasi hata verir\u001b[39;00m\n",
      "\u001b[1;31mTypeError\u001b[0m: 'list' object cannot be interpreted as an integer"
     ]
    }
   ],
   "source": [
    "list(enumerate(100,liste))  # siralama hatasi hata verir"
   ]
  },
  {
   "cell_type": "code",
   "execution_count": 31,
   "metadata": {},
   "outputs": [
    {
     "data": {
      "text/plain": [
       "7"
      ]
     },
     "execution_count": 31,
     "metadata": {},
     "output_type": "execute_result"
    }
   ],
   "source": [
    "len(\"Techpro\")"
   ]
  },
  {
   "cell_type": "code",
   "execution_count": 32,
   "metadata": {},
   "outputs": [],
   "source": [
    "def my_len(x):\n",
    "     \n",
    "     \"\"\"bu fonksiyon icine girilen itarable degerin uzunlugunu verir\"\"\"\n",
    "     counter = 0  \n",
    "     for i in x:\n",
    "         counter += 1\n",
    "     return counter"
   ]
  },
  {
   "cell_type": "code",
   "execution_count": 33,
   "metadata": {},
   "outputs": [
    {
     "data": {
      "text/plain": [
       "7"
      ]
     },
     "execution_count": 33,
     "metadata": {},
     "output_type": "execute_result"
    }
   ],
   "source": [
    "my_len(\"Techpro\")"
   ]
  },
  {
   "cell_type": "code",
   "execution_count": 34,
   "metadata": {},
   "outputs": [
    {
     "ename": "TypeError",
     "evalue": "object of type 'int' has no len()",
     "output_type": "error",
     "traceback": [
      "\u001b[1;31m---------------------------------------------------------------------------\u001b[0m",
      "\u001b[1;31mTypeError\u001b[0m                                 Traceback (most recent call last)",
      "\u001b[1;32md:\\BATCH223-DATA-SCIENT\\python_batch223\\day17_14_10_2023_Function_2\\session_17_function.ipynb Cell 34\u001b[0m line \u001b[0;36m1\n\u001b[1;32m----> <a href='vscode-notebook-cell:/d%3A/BATCH223-DATA-SCIENT/python_batch223/day17_14_10_2023_Function_2/session_17_function.ipynb#X45sZmlsZQ%3D%3D?line=0'>1</a>\u001b[0m \u001b[39mlen\u001b[39;49m(\u001b[39m123\u001b[39;49m)  \u001b[39m# hata verir\u001b[39;00m\n",
      "\u001b[1;31mTypeError\u001b[0m: object of type 'int' has no len()"
     ]
    }
   ],
   "source": [
    "len(123)  # hata verir"
   ]
  },
  {
   "cell_type": "code",
   "execution_count": 35,
   "metadata": {},
   "outputs": [],
   "source": [
    "def int_len(y):\n",
    "    \n",
    "    \"\"\"bu fonksiyonun icine girilen integer degerin uzunlugunu verir\"\"\"\n",
    "    \n",
    "    counter = 0\n",
    "    \n",
    "    for i in str(y):\n",
    "        \n",
    "        counter +=1\n",
    "    return counter    "
   ]
  },
  {
   "cell_type": "code",
   "execution_count": 36,
   "metadata": {},
   "outputs": [
    {
     "data": {
      "text/plain": [
       "4"
      ]
     },
     "execution_count": 36,
     "metadata": {},
     "output_type": "execute_result"
    }
   ],
   "source": [
    "int_len(1536)"
   ]
  },
  {
   "cell_type": "code",
   "execution_count": 37,
   "metadata": {},
   "outputs": [
    {
     "data": {
      "text/plain": [
       "'Return the number of items in a container.'"
      ]
     },
     "execution_count": 37,
     "metadata": {},
     "output_type": "execute_result"
    }
   ],
   "source": [
    "len.__doc__\n"
   ]
  },
  {
   "cell_type": "code",
   "execution_count": 38,
   "metadata": {},
   "outputs": [
    {
     "name": "stdout",
     "output_type": "stream",
     "text": [
      "Help on function int_len in module __main__:\n",
      "\n",
      "int_len(y)\n",
      "    bu fonksiyonun icine girilen integer degerin uzunlugunu verir\n",
      "\n"
     ]
    }
   ],
   "source": [
    "help(int_len)"
   ]
  },
  {
   "cell_type": "code",
   "execution_count": 39,
   "metadata": {},
   "outputs": [
    {
     "name": "stdout",
     "output_type": "stream",
     "text": [
      "tek sayilar: [1, 15, 5, 89, 45, 71, 45, 95, 61]\n",
      "cift sayilar [2, 36, 62, 52, 30, 56, 48]\n"
     ]
    }
   ],
   "source": [
    "sayilar_listesi =[1,15,2,36,5,89,45,62,52,71,30,56,45,95,61,48]\n",
    "\n",
    "odds =[]\n",
    "evens = []\n",
    "\n",
    "for i in sayilar_listesi:\n",
    "    if i % 2 :\n",
    "        odds.append(i)\n",
    "    else:\n",
    "        evens.append(i)\n",
    "print(f\"tek sayilar: {odds}\")  \n",
    "print(f\"cift sayilar {evens}\")      \n"
   ]
  },
  {
   "cell_type": "code",
   "execution_count": 41,
   "metadata": {},
   "outputs": [],
   "source": [
    "def tek_cift_ayirici(liste,istek):\n",
    "\n",
    "    odds = []\n",
    "    evens = []\n",
    "\n",
    "    for i in liste:\n",
    "\n",
    "        if i % 2:\n",
    "            odds.append(i)\n",
    "        else:\n",
    "            evens.append(i)\n",
    "\n",
    "    odds.sort()\n",
    "    evens.sort()\n",
    "\n",
    "    if istek == \"cift\":\n",
    "        return evens\n",
    "    elif istek == \"tek\":\n",
    "        return odds"
   ]
  },
  {
   "cell_type": "code",
   "execution_count": 42,
   "metadata": {},
   "outputs": [
    {
     "data": {
      "text/plain": [
       "[1, 5, 15, 45, 45, 61, 71, 89, 95]"
      ]
     },
     "execution_count": 42,
     "metadata": {},
     "output_type": "execute_result"
    }
   ],
   "source": [
    "tek_cift_ayirici([1,15,2,36,5,89,45,62,52,71,30,56,45,95,61,48],\"tek\")"
   ]
  },
  {
   "cell_type": "markdown",
   "metadata": {},
   "source": [
    "soru:  ismindeki sesli harfleri bulma "
   ]
  },
  {
   "cell_type": "code",
   "execution_count": 47,
   "metadata": {},
   "outputs": [],
   "source": [
    "def adin_kadar_kazan (x):\n",
    "    \"\"\"bu fonksiyon iceirisinde gecen sesli harflerin sayisini bulur\"\"\"\n",
    "    \n",
    "    counter =0\n",
    "    \n",
    "    for i in x.lower():\n",
    "        if i in \"aeıioöuü\":\n",
    "            counter +=1\n",
    "    return counter        "
   ]
  },
  {
   "cell_type": "code",
   "execution_count": 48,
   "metadata": {},
   "outputs": [
    {
     "data": {
      "text/plain": [
       "2"
      ]
     },
     "execution_count": 48,
     "metadata": {},
     "output_type": "execute_result"
    }
   ],
   "source": [
    "adin_kadar_kazan(\"ekrem\")"
   ]
  },
  {
   "cell_type": "code",
   "execution_count": 49,
   "metadata": {},
   "outputs": [
    {
     "data": {
      "text/plain": [
       "3"
      ]
     },
     "execution_count": 49,
     "metadata": {},
     "output_type": "execute_result"
    }
   ],
   "source": [
    "adin_kadar_kazan(\"nesegul\")"
   ]
  },
  {
   "cell_type": "code",
   "execution_count": 50,
   "metadata": {},
   "outputs": [
    {
     "data": {
      "text/plain": [
       "2000"
      ]
     },
     "execution_count": 50,
     "metadata": {},
     "output_type": "execute_result"
    }
   ],
   "source": [
    "adin_kadar_kazan(\"ekrem\") * 1000"
   ]
  },
  {
   "cell_type": "code",
   "execution_count": 51,
   "metadata": {},
   "outputs": [],
   "source": [
    "def adin_kadar_kazan_2 (x):\n",
    "    \"\"\"bu fonksiyon icfirisinde gecen sesli harflerin sayisini bulur\"\"\"\n",
    "    \n",
    "    counter =0\n",
    "    \n",
    "    for i in x.lower():\n",
    "        if i in \"aeıioöuü\":\n",
    "            counter +=1\n",
    "    print(counter )        "
   ]
  },
  {
   "cell_type": "code",
   "execution_count": 52,
   "metadata": {},
   "outputs": [
    {
     "name": "stdout",
     "output_type": "stream",
     "text": [
      "2\n"
     ]
    }
   ],
   "source": [
    "adin_kadar_kazan_2(\"ekrem\") "
   ]
  },
  {
   "cell_type": "code",
   "execution_count": 53,
   "metadata": {},
   "outputs": [
    {
     "name": "stdout",
     "output_type": "stream",
     "text": [
      "2\n"
     ]
    },
    {
     "ename": "TypeError",
     "evalue": "unsupported operand type(s) for *: 'NoneType' and 'int'",
     "output_type": "error",
     "traceback": [
      "\u001b[1;31m---------------------------------------------------------------------------\u001b[0m",
      "\u001b[1;31mTypeError\u001b[0m                                 Traceback (most recent call last)",
      "\u001b[1;32md:\\BATCH223-DATA-SCIENT\\python_batch223\\day17_14_10_2023_Function_2\\session_17_function.ipynb Cell 52\u001b[0m line \u001b[0;36m1\n\u001b[1;32m----> <a href='vscode-notebook-cell:/d%3A/BATCH223-DATA-SCIENT/python_batch223/day17_14_10_2023_Function_2/session_17_function.ipynb#Y102sZmlsZQ%3D%3D?line=0'>1</a>\u001b[0m adin_kadar_kazan_2(\u001b[39m\"\u001b[39;49m\u001b[39mekrem\u001b[39;49m\u001b[39m\"\u001b[39;49m) \u001b[39m*\u001b[39;49m \u001b[39m1000\u001b[39;49m\n",
      "\u001b[1;31mTypeError\u001b[0m: unsupported operand type(s) for *: 'NoneType' and 'int'"
     ]
    }
   ],
   "source": [
    "adin_kadar_kazan_2(\"ekrem\") * 1000"
   ]
  },
  {
   "cell_type": "code",
   "execution_count": 54,
   "metadata": {},
   "outputs": [],
   "source": [
    "isimler_listesi = [\"inci\",\"ayse\",\"ali\",\"doganay\",\"enecan\"]"
   ]
  },
  {
   "cell_type": "code",
   "execution_count": 55,
   "metadata": {},
   "outputs": [
    {
     "name": "stdout",
     "output_type": "stream",
     "text": [
      "2\n",
      "2\n",
      "2\n",
      "3\n",
      "3\n"
     ]
    }
   ],
   "source": [
    "for i in isimler_listesi:\n",
    "    \n",
    "    print(adin_kadar_kazan(i))\n",
    "    "
   ]
  },
  {
   "cell_type": "code",
   "execution_count": 80,
   "metadata": {},
   "outputs": [
    {
     "data": {
      "text/plain": [
       "{'inci': 2, 'ayse': 2, 'ali': 2, 'doganay': 3, 'enecan': 3}"
      ]
     },
     "execution_count": 80,
     "metadata": {},
     "output_type": "execute_result"
    }
   ],
   "source": [
    "result ={}\n",
    "\n",
    "for i in isimler_listesi:\n",
    "    result[i] =adin_kadar_kazan(i)\n",
    "result    "
   ]
  }
 ],
 "metadata": {
  "kernelspec": {
   "display_name": "Python 3",
   "language": "python",
   "name": "python3"
  },
  "language_info": {
   "codemirror_mode": {
    "name": "ipython",
    "version": 3
   },
   "file_extension": ".py",
   "mimetype": "text/x-python",
   "name": "python",
   "nbconvert_exporter": "python",
   "pygments_lexer": "ipython3",
   "version": "3.11.6"
  }
 },
 "nbformat": 4,
 "nbformat_minor": 2
}
