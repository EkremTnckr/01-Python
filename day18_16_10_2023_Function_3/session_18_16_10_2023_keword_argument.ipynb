{
 "cells": [
  {
   "cell_type": "markdown",
   "metadata": {},
   "source": [
    "## Positional and Keyword Arguments\n",
    "\n",
    "Positional ..fonksiyon yazarken icerisine yazdigimiz argumentlerin yeri onemlidir.<br>\n",
    "Tanimladigimiz arguman yerine farkli bir arguman gonderirsek ciktimiz istedigimiz sonucu vermez."
   ]
  },
  {
   "cell_type": "code",
   "execution_count": 5,
   "metadata": {},
   "outputs": [],
   "source": [
    "def  my_name(first_name,last_name):\n",
    "    print(f\"My name  is  {first_name} {last_name}\")"
   ]
  },
  {
   "cell_type": "code",
   "execution_count": 6,
   "metadata": {},
   "outputs": [
    {
     "name": "stdout",
     "output_type": "stream",
     "text": [
      "My name  is  Ekrem Tunckir\n"
     ]
    }
   ],
   "source": [
    "my_name(\"Ekrem\",  \"Tunckir\")"
   ]
  },
  {
   "cell_type": "code",
   "execution_count": 8,
   "metadata": {},
   "outputs": [
    {
     "name": "stdout",
     "output_type": "stream",
     "text": [
      "My name  is  Tunckir Ekrem\n"
     ]
    }
   ],
   "source": [
    "    my_name(\"Tunckir\" , \"Ekrem\")"
   ]
  },
  {
   "cell_type": "markdown",
   "metadata": {},
   "source": [
    "Positional belli olsa da  parametrelerin yerlerini tanimladigimizda istedigimiz ciktiyi tanimladigimiz parametreye gore alabiliriz."
   ]
  },
  {
   "cell_type": "code",
   "execution_count": 9,
   "metadata": {},
   "outputs": [
    {
     "name": "stdout",
     "output_type": "stream",
     "text": [
      "My name  is  Ekrem Tunckir\n"
     ]
    }
   ],
   "source": [
    "my_name(last_name=\"Tunckir\", first_name=\"Ekrem\")\n"
   ]
  },
  {
   "cell_type": "code",
   "execution_count": null,
   "metadata": {},
   "outputs": [],
   "source": [
    "my_name"
   ]
  },
  {
   "cell_type": "code",
   "execution_count": 10,
   "metadata": {},
   "outputs": [],
   "source": [
    "def your_name (first_name ,last_name  =\"demir\"): # default deger demir olarak tanimladik.\n",
    "    print(f\"My name is {first_name} {last_name}\")"
   ]
  },
  {
   "cell_type": "code",
   "execution_count": 12,
   "metadata": {},
   "outputs": [
    {
     "name": "stdout",
     "output_type": "stream",
     "text": [
      "My name is Ekrem Tunckir\n"
     ]
    }
   ],
   "source": [
    "your_name(\"Ekrem\" ,\"Tunckir\")"
   ]
  },
  {
   "cell_type": "code",
   "execution_count": 13,
   "metadata": {},
   "outputs": [
    {
     "name": "stdout",
     "output_type": "stream",
     "text": [
      "My name is Ekrem demir\n"
     ]
    }
   ],
   "source": [
    "your_name(\"Ekrem\")"
   ]
  },
  {
   "cell_type": "code",
   "execution_count": 14,
   "metadata": {},
   "outputs": [
    {
     "ename": "SyntaxError",
     "evalue": "non-default argument follows default argument (935154650.py, line 1)",
     "output_type": "error",
     "traceback": [
      "\u001b[1;36m  Cell \u001b[1;32mIn[14], line 1\u001b[1;36m\u001b[0m\n\u001b[1;33m    def your_name2(first_name, second_name = \"ali\", last_name)\u001b[0m\n\u001b[1;37m                                                    ^\u001b[0m\n\u001b[1;31mSyntaxError\u001b[0m\u001b[1;31m:\u001b[0m non-default argument follows default argument\n"
     ]
    }
   ],
   "source": [
    "def your_name2(first_name, second_name = \"ali\", last_name)\n",
    "    print(f\"My name is {first_name} {second_name} {last_name}\")\n",
    "    \n",
    "    # hata verir cunku default degerler sona yazilir"
   ]
  },
  {
   "cell_type": "code",
   "execution_count": 17,
   "metadata": {},
   "outputs": [],
   "source": [
    "def your_name2(first_name,  last_name ,second_name = \"ali\" ):\n",
    "    print(f\"My name is {first_name} {second_name} {last_name}\")\n",
    "    "
   ]
  },
  {
   "cell_type": "code",
   "execution_count": 19,
   "metadata": {},
   "outputs": [
    {
     "name": "stdout",
     "output_type": "stream",
     "text": [
      "My name is ece koseoglu cesur\n"
     ]
    }
   ],
   "source": [
    "your_name2(\"ece\" , \"cesur\", \"koseoglu\")"
   ]
  },
  {
   "cell_type": "code",
   "execution_count": 20,
   "metadata": {},
   "outputs": [],
   "source": [
    "a =\"Adana\"\n",
    "b =\"I\"\n",
    "c =\"\\U00002764\""
   ]
  },
  {
   "cell_type": "code",
   "execution_count": 21,
   "metadata": {},
   "outputs": [
    {
     "data": {
      "text/plain": [
       "'❤'"
      ]
     },
     "execution_count": 21,
     "metadata": {},
     "output_type": "execute_result"
    }
   ],
   "source": [
    "\"\\U00002764\""
   ]
  },
  {
   "cell_type": "code",
   "execution_count": 26,
   "metadata": {},
   "outputs": [],
   "source": [
    "def love(pos1,pos2,pos3):\n",
    "    print(f\"{pos2} {pos3} {pos1}\")"
   ]
  },
  {
   "cell_type": "code",
   "execution_count": 27,
   "metadata": {},
   "outputs": [
    {
     "name": "stdout",
     "output_type": "stream",
     "text": [
      "I ❤ Adana\n"
     ]
    }
   ],
   "source": [
    "love(a,b,c)"
   ]
  },
  {
   "cell_type": "code",
   "execution_count": 29,
   "metadata": {},
   "outputs": [
    {
     "data": {
      "text/plain": [
       "[(0, 't'), (1, 'e'), (2, 'c'), (3, 'h'), (4, 'p'), (5, 'r'), (6, 'o')]"
      ]
     },
     "execution_count": 29,
     "metadata": {},
     "output_type": "execute_result"
    }
   ],
   "source": [
    "list(enumerate(\"techpro\"))"
   ]
  },
  {
   "cell_type": "code",
   "execution_count": 30,
   "metadata": {},
   "outputs": [
    {
     "data": {
      "text/plain": [
       "[(100, 't'),\n",
       " (101, 'e'),\n",
       " (102, 'c'),\n",
       " (103, 'h'),\n",
       " (104, 'p'),\n",
       " (105, 'r'),\n",
       " (106, 'o')]"
      ]
     },
     "execution_count": 30,
     "metadata": {},
     "output_type": "execute_result"
    }
   ],
   "source": [
    "list(enumerate(\"techpro\", 100))# enumerate ilk eleman iterable olmali positional keyword onemli"
   ]
  },
  {
   "cell_type": "code",
   "execution_count": 41,
   "metadata": {},
   "outputs": [],
   "source": [
    "def tek_sayilar(a,b,c,d,e):\n",
    "    tek_sayilar=[]\n",
    "    for i in a,b,c,d,e:\n",
    "        if i %2:\n",
    "            tek_sayilar.append(i)\n",
    "    return tek_sayilar      \n",
    "            "
   ]
  },
  {
   "cell_type": "code",
   "execution_count": 42,
   "metadata": {},
   "outputs": [
    {
     "data": {
      "text/plain": [
       "[25, 9]"
      ]
     },
     "execution_count": 42,
     "metadata": {},
     "output_type": "execute_result"
    }
   ],
   "source": [
    "tek_sayilar(10,25,32,4,9)\n",
    "    "
   ]
  },
  {
   "cell_type": "code",
   "execution_count": null,
   "metadata": {},
   "outputs": [],
   "source": []
  }
 ],
 "metadata": {
  "kernelspec": {
   "display_name": "Python 3",
   "language": "python",
   "name": "python3"
  },
  "language_info": {
   "codemirror_mode": {
    "name": "ipython",
    "version": 3
   },
   "file_extension": ".py",
   "mimetype": "text/x-python",
   "name": "python",
   "nbconvert_exporter": "python",
   "pygments_lexer": "ipython3",
   "version": "3.11.6"
  }
 },
 "nbformat": 4,
 "nbformat_minor": 2
}
