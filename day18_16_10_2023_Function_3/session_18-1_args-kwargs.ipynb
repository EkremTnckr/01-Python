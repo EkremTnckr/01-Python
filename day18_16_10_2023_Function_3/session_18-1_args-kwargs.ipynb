{
 "cells": [
  {
   "cell_type": "markdown",
   "metadata": {},
   "source": [
    "# Arbitray Numbers of Arguments (* args , **kwargs)"
   ]
  },
  {
   "cell_type": "code",
   "execution_count": 2,
   "metadata": {},
   "outputs": [],
   "source": [
    "def tek_sayilar_1(* sayilar):\n",
    "    tek_sayilar =[]\n",
    "    for i in sayilar:\n",
    "        if i %2:\n",
    "            tek_sayilar.append(i)\n",
    "    return tek_sayilar       "
   ]
  },
  {
   "cell_type": "code",
   "execution_count": 4,
   "metadata": {},
   "outputs": [
    {
     "data": {
      "text/plain": [
       "[5, 63, 41]"
      ]
     },
     "execution_count": 4,
     "metadata": {},
     "output_type": "execute_result"
    }
   ],
   "source": [
    "tek_sayilar_1(5,12,63,41,12)"
   ]
  },
  {
   "cell_type": "code",
   "execution_count": 5,
   "metadata": {},
   "outputs": [],
   "source": [
    "def tersten_yazdirma(* kelimeler):\n",
    "    liste=[]\n",
    "    for i in kelimeler:\n",
    "        liste.append(i[::-1])\n",
    "    return liste    \n",
    "        "
   ]
  },
  {
   "cell_type": "code",
   "execution_count": 6,
   "metadata": {},
   "outputs": [
    {
     "data": {
      "text/plain": [
       "['nisre', 'navdir', 'icni', 'ece']"
      ]
     },
     "execution_count": 6,
     "metadata": {},
     "output_type": "execute_result"
    }
   ],
   "source": [
    "tersten_yazdirma(\"ersin\", \"ridvan\", \"inci\",\"ece\")"
   ]
  },
  {
   "cell_type": "code",
   "execution_count": 7,
   "metadata": {},
   "outputs": [
    {
     "data": {
      "text/plain": [
       "['merke', 'lugesen', 'sene', 'runilsa']"
      ]
     },
     "execution_count": 7,
     "metadata": {},
     "output_type": "execute_result"
    }
   ],
   "source": [
    "tersten_yazdirma(\"ekrem\", \"nesegul\",\"enes\",\"aslinur\")"
   ]
  },
  {
   "cell_type": "code",
   "execution_count": 8,
   "metadata": {},
   "outputs": [
    {
     "data": {
      "text/plain": [
       "['ey edip ad anadA pide ye']"
      ]
     },
     "execution_count": 8,
     "metadata": {},
     "output_type": "execute_result"
    }
   ],
   "source": [
    "tersten_yazdirma(\"ey edip Adana da pide ye\")"
   ]
  },
  {
   "cell_type": "code",
   "execution_count": null,
   "metadata": {},
   "outputs": [],
   "source": [
    "tersten_yazdirma({\"key1\":3, \"key2\":6}) \n",
    "# hata verir ,dict. unordered tersten yazdirma olmaz."
   ]
  },
  {
   "cell_type": "markdown",
   "metadata": {},
   "source": [
    "soru :fonksiyonun icerisine yazdgimiz elemanlarin  tek ise karesini yazdiran, cift ise sayiyi oldugu gibi yazdiran fonksiyon yaziniz "
   ]
  },
  {
   "cell_type": "code",
   "execution_count": 11,
   "metadata": {},
   "outputs": [],
   "source": [
    "def tek_kare_cift(* sayilar):\n",
    "    liste =[]\n",
    "    for i in sayilar:\n",
    "        if i % 2 == 0:\n",
    "            liste.append(i)\n",
    "        else:\n",
    "            liste.append(i ** 2)\n",
    "    return liste        "
   ]
  },
  {
   "cell_type": "code",
   "execution_count": 12,
   "metadata": {},
   "outputs": [
    {
     "data": {
      "text/plain": [
       "[10, 225, 42, 121, 76, 9, 25, 7225, 92]"
      ]
     },
     "execution_count": 12,
     "metadata": {},
     "output_type": "execute_result"
    }
   ],
   "source": [
    "tek_kare_cift(10,15,42,11,76,3,5,85,92)"
   ]
  },
  {
   "cell_type": "code",
   "execution_count": null,
   "metadata": {},
   "outputs": [],
   "source": [
    "def tek_kare_cift2(* sayilar):\n",
    "    return [i if i % 2 == 0 else i ** 2 for i in sayilar]# list comp."
   ]
  },
  {
   "cell_type": "code",
   "execution_count": 13,
   "metadata": {},
   "outputs": [
    {
     "data": {
      "text/plain": [
       "[10, 225, 42, 121, 76, 9, 25, 7225, 92]"
      ]
     },
     "execution_count": 13,
     "metadata": {},
     "output_type": "execute_result"
    }
   ],
   "source": [
    "tek_kare_cift(10,15,42,11,76,3,5,85,92)"
   ]
  }
 ],
 "metadata": {
  "kernelspec": {
   "display_name": "Python 3",
   "language": "python",
   "name": "python3"
  },
  "language_info": {
   "codemirror_mode": {
    "name": "ipython",
    "version": 3
   },
   "file_extension": ".py",
   "mimetype": "text/x-python",
   "name": "python",
   "nbconvert_exporter": "python",
   "pygments_lexer": "ipython3",
   "version": "3.11.6"
  }
 },
 "nbformat": 4,
 "nbformat_minor": 2
}
