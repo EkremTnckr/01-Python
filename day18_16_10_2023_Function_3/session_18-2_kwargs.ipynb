{
 "cells": [
  {
   "cell_type": "code",
   "execution_count": 1,
   "metadata": {},
   "outputs": [
    {
     "data": {
      "text/plain": [
       "{'name1': 'sedat', 'name2': 'muratname3:selin'}"
      ]
     },
     "execution_count": 1,
     "metadata": {},
     "output_type": "execute_result"
    }
   ],
   "source": [
    "dict_1 = {\"name1\": \"sedat\", \"name2\": \"murat\" \"name3:\" \"selin\"}\n",
    "dict_1"
   ]
  },
  {
   "cell_type": "code",
   "execution_count": 3,
   "metadata": {},
   "outputs": [],
   "source": [
    "def kwfonsiyonu(**kwargs):\n",
    "    for i,j in kwargs.items():\n",
    "        print(f\"key:{i},value:{j}\")"
   ]
  },
  {
   "cell_type": "code",
   "execution_count": 4,
   "metadata": {},
   "outputs": [
    {
     "name": "stdout",
     "output_type": "stream",
     "text": [
      "key:name4,value:ahmet\n",
      "key:name5,value:nazim\n",
      "key:name6,value:emre\n"
     ]
    }
   ],
   "source": [
    "kwfonsiyonu(name4 =\"ahmet\", name5=\"nazim\", name6=\"emre\")"
   ]
  },
  {
   "cell_type": "code",
   "execution_count": 5,
   "metadata": {},
   "outputs": [
    {
     "name": "stdout",
     "output_type": "stream",
     "text": [
      "key:name1,value:sedat\n",
      "key:name2,value:muratname3:selin\n"
     ]
    }
   ],
   "source": [
    "kwfonsiyonu( ** dict_1)"
   ]
  },
  {
   "cell_type": "markdown",
   "metadata": {},
   "source": [
    "soru : Anne  baba ve cocuktan olusan cekirdek ailenin Super aile olu olmadigini bulan kodu yaziniz.<br>\n",
    "Isimleri kullanicidan isteyiniz.<br>\n",
    "cocugun ismindeki sesssiz harflerin hepsi,anne ve babanin isimlerinde var ise bu aile super ailedir.<br>\n",
    "(Not:anne ve baba isminden en az bir tane olmali)<br>\n",
    "orn1:baba adi= \"Halil, anneadi= \"Merve, cocukadi =\"Veli\"---> Super aile.<br>\n",
    "(\"v\" anneden, \"l\"babadan)\n",
    "orn2 : baba adi =\"murat\" anneadi =\"songul\", cocukadi=\"Mert\"-->super aile degil.Anneden harf yok"
   ]
  },
  {
   "cell_type": "code",
   "execution_count": 1,
   "metadata": {},
   "outputs": [
    {
     "name": "stdout",
     "output_type": "stream",
     "text": [
      "bu aile süper aile değildir.\n"
     ]
    }
   ],
   "source": [
    "baba = input(\"baba ismi\")\n",
    "anne = input(\"anne ismi\")\n",
    "cocuk = input(\"cocuk ismi\")\n",
    "\n",
    "sessiz_cocuk = \"\"\n",
    "\n",
    "for i in cocuk.lower():\n",
    "    if i not in \"aeıiüuoö\":\n",
    "        sessiz_cocuk += i\n",
    "\n",
    "if len(set(sessiz_cocuk) & set(baba)) > 0 and len(set(sessiz_cocuk) & set(anne)) > 0 and set(sessiz_cocuk).issubset(set(baba) | set(anne)):\n",
    "    print(\"bu aile süper ailedir\")\n",
    "else:\n",
    "    print(\"bu aile süper aile değildir.\")"
   ]
  },
  {
   "cell_type": "code",
   "execution_count": 2,
   "metadata": {},
   "outputs": [],
   "source": [
    "sessiz_cocuk = \"\"\n",
    "\n",
    "for i in cocuk.lower():\n",
    "    if i not in \"aeıiüuoö\":\n",
    "        sessiz_cocuk += i"
   ]
  },
  {
   "cell_type": "code",
   "execution_count": 3,
   "metadata": {},
   "outputs": [],
   "source": [
    "cocuk = \"veli\"\n",
    "aa = set(cocuk) - set(\"aeıioöuü\")"
   ]
  },
  {
   "cell_type": "code",
   "execution_count": 4,
   "metadata": {},
   "outputs": [
    {
     "data": {
      "text/plain": [
       "{'l', 'v'}"
      ]
     },
     "execution_count": 4,
     "metadata": {},
     "output_type": "execute_result"
    }
   ],
   "source": [
    "aa"
   ]
  }
 ],
 "metadata": {
  "kernelspec": {
   "display_name": "Python 3",
   "language": "python",
   "name": "python3"
  },
  "language_info": {
   "codemirror_mode": {
    "name": "ipython",
    "version": 3
   },
   "file_extension": ".py",
   "mimetype": "text/x-python",
   "name": "python",
   "nbconvert_exporter": "python",
   "pygments_lexer": "ipython3",
   "version": "3.11.6"
  }
 },
 "nbformat": 4,
 "nbformat_minor": 2
}
