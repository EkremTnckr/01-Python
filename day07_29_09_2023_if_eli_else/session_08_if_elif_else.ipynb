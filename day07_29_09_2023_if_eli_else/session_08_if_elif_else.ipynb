{
 "cells": [
  {
   "cell_type": "markdown",
   "metadata": {},
   "source": [
    "# if , elif , else\n",
    "\n",
    "\n",
    "kosul ifadesi True ise calisir--> if,elif,else"
   ]
  },
  {
   "cell_type": "code",
   "execution_count": null,
   "metadata": {},
   "outputs": [],
   "source": []
  },
  {
   "cell_type": "markdown",
   "metadata": {},
   "source": [
    "## if \n",
    "\n",
    "if blogundaki kodlar True ise if kismi calisir.\n",
    "                    False ise else kismina gecer\n",
    "\n"
   ]
  },
  {
   "cell_type": "code",
   "execution_count": 1,
   "metadata": {},
   "outputs": [
    {
     "name": "stdout",
     "output_type": "stream",
     "text": [
      "5, 4 ten buyuktur\n"
     ]
    }
   ],
   "source": [
    "if 5 > 4 :\n",
    "    print(\"5, 4 ten buyuktur\")"
   ]
  },
  {
   "cell_type": "code",
   "execution_count": 2,
   "metadata": {},
   "outputs": [
    {
     "name": "stdout",
     "output_type": "stream",
     "text": [
      "bu kod her turlu calisir\n"
     ]
    }
   ],
   "source": [
    "if True:\n",
    "    print(\"bu kod her turlu calisir\")"
   ]
  },
  {
   "cell_type": "code",
   "execution_count": 3,
   "metadata": {},
   "outputs": [],
   "source": [
    "if False:\n",
    "    print(\"bu kod cikti vermez\")"
   ]
  },
  {
   "cell_type": "code",
   "execution_count": 5,
   "metadata": {},
   "outputs": [
    {
     "name": "stdout",
     "output_type": "stream",
     "text": [
      "if calissada  calismasa da ben ekranda gorunecegim\n"
     ]
    }
   ],
   "source": [
    "if 5 < 4:\n",
    "    print(\"5, 4 ten kucuk mudur?\")\n",
    "print(\"if calissada  calismasa da ben ekranda gorunecegim\")    "
   ]
  },
  {
   "cell_type": "code",
   "execution_count": 6,
   "metadata": {},
   "outputs": [
    {
     "name": "stdout",
     "output_type": "stream",
     "text": [
      "bu kod calisir mi\n"
     ]
    }
   ],
   "source": [
    "if \"derya\":\n",
    "    print(\"bu kod calisir mi\")  # bos str false dondurur"
   ]
  },
  {
   "cell_type": "code",
   "execution_count": 8,
   "metadata": {},
   "outputs": [
    {
     "name": "stdout",
     "output_type": "stream",
     "text": [
      "if kismi calisir\n"
     ]
    }
   ],
   "source": [
    "if 5 > 4:                       # True oldugundan if kismi calisti\n",
    "    print(\"if kismi calisir\") # \n",
    "else:\n",
    "    print(\"else calisir\")"
   ]
  },
  {
   "cell_type": "code",
   "execution_count": 9,
   "metadata": {},
   "outputs": [
    {
     "name": "stdout",
     "output_type": "stream",
     "text": [
      "else kismi calisir\n"
     ]
    }
   ],
   "source": [
    "if 5 < 4 :\n",
    "    print(\"if kismi calisir\")\n",
    "else:\n",
    "    print(\"else kismi calisir\")"
   ]
  },
  {
   "cell_type": "code",
   "execution_count": 10,
   "metadata": {},
   "outputs": [
    {
     "name": "stdout",
     "output_type": "stream",
     "text": [
      "else kismi calisir\n"
     ]
    }
   ],
   "source": [
    "x = 8\n",
    "if x < 5:\n",
    "    print(\"if kismi calisir\")\n",
    "else:\n",
    "    print(\"else kismi calisir\")\n",
    "        "
   ]
  },
  {
   "cell_type": "markdown",
   "metadata": {},
   "source": [
    "# if ,elif"
   ]
  },
  {
   "cell_type": "markdown",
   "metadata": {},
   "source": [
    "birden fazla kosulum var ise if elif kullaniriz."
   ]
  },
  {
   "cell_type": "code",
   "execution_count": 13,
   "metadata": {},
   "outputs": [
    {
     "name": "stdout",
     "output_type": "stream",
     "text": [
      "3.elif calisir\n"
     ]
    }
   ],
   "source": [
    "x = 8\n",
    "if x < 8:\n",
    "    print(\"if kismi\")\n",
    "elif x == 9:\n",
    "    print(\"1.elif kismi calisir\")\n",
    "elif x > 10:\n",
    "    print(\"2.ci elif calisir\")\n",
    "elif x < 10:\n",
    "    print(\"3.elif calisir\")\n",
    "    \n",
    "    "
   ]
  },
  {
   "cell_type": "markdown",
   "metadata": {},
   "source": [
    "# if ,elif, else"
   ]
  },
  {
   "cell_type": "code",
   "execution_count": 14,
   "metadata": {},
   "outputs": [
    {
     "name": "stdout",
     "output_type": "stream",
     "text": [
      "x ne olursa olsun ben calisirim\n"
     ]
    }
   ],
   "source": [
    "x = 10\n",
    "if x < 8:     # kosul True oldugu surece calisir\n",
    "    print(\"if kismi\")\n",
    "elif x == 9:    #kosul True oldugu surece calisir\n",
    "    print(\"1.elif kismi calisir\")\n",
    "elif x > 10:\n",
    "    print(\"2.ci elif calisir\")\n",
    "elif x < 10:\n",
    "    print(\"3.elif calisir\")\n",
    "else:\n",
    "    print(\"x ne olursa olsun ben calisirim\")"
   ]
  },
  {
   "cell_type": "code",
   "execution_count": 15,
   "metadata": {},
   "outputs": [
    {
     "name": "stdout",
     "output_type": "stream",
     "text": [
      "satir1\n",
      "satir2\n"
     ]
    }
   ],
   "source": [
    "if 5 > 3:\n",
    "    print(\"satir1\")\n",
    "    if 5 > 4:\n",
    "        print(\"satir2\")"
   ]
  },
  {
   "cell_type": "code",
   "execution_count": 16,
   "metadata": {},
   "outputs": [
    {
     "name": "stdout",
     "output_type": "stream",
     "text": [
      "else\n"
     ]
    }
   ],
   "source": [
    "x =4 \n",
    "if x < 2:\n",
    "    print(\"if\")\n",
    "elif x > 5:\n",
    "    print(\"elif\")\n",
    "else:\n",
    "    print(\"else\")"
   ]
  },
  {
   "cell_type": "code",
   "execution_count": 17,
   "metadata": {},
   "outputs": [
    {
     "name": "stdout",
     "output_type": "stream",
     "text": [
      "64\n"
     ]
    }
   ],
   "source": [
    "x =4 \n",
    "if x < 2:\n",
    "    print(\"if\")\n",
    "elif x > 5:\n",
    "    print(\"elif\")\n",
    "else:\n",
    "    print(4 ** 3)"
   ]
  },
  {
   "cell_type": "code",
   "execution_count": 18,
   "metadata": {},
   "outputs": [
    {
     "name": "stdout",
     "output_type": "stream",
     "text": [
      "elif\n",
      "25\n",
      "12\n",
      "name\n"
     ]
    }
   ],
   "source": [
    "x =4\n",
    "if x < 2:\n",
    "    print(\"if\")\n",
    "elif x > 3:\n",
    "    print(\"elif\")\n",
    "    print(5 ** 2)\n",
    "    print(6 + 6)\n",
    "    name = \"Selma\"\n",
    "    print(\"name\")"
   ]
  },
  {
   "cell_type": "code",
   "execution_count": 19,
   "metadata": {},
   "outputs": [
    {
     "data": {
      "text/plain": [
       "'Selma'"
      ]
     },
     "execution_count": 19,
     "metadata": {},
     "output_type": "execute_result"
    }
   ],
   "source": [
    "name"
   ]
  },
  {
   "cell_type": "markdown",
   "metadata": {},
   "source": [
    "soru : \n",
    "input ile kullaniciya yasini sorun.Yasi 30  ve altinda ise \"cok gencsin\"yazdirsin.<br>\n",
    "31 ile 50(dahil) arasinda ise \"?\",<br>\n",
    "51 ve uzeri ise \"?\"\n",
    "\n"
   ]
  },
  {
   "cell_type": "code",
   "execution_count": 28,
   "metadata": {},
   "outputs": [
    {
     "name": "stdout",
     "output_type": "stream",
     "text": [
      "supersin\n"
     ]
    }
   ],
   "source": [
    "yas = int(input(\"lutfen yasinizi giriniz\"))\n",
    "if yas <= 30:\n",
    "     print(\"cok gencsin\")\n",
    "elif yas <= 50:\n",
    "     print(\"delikanlisin\")\n",
    "else:\n",
    "     print(\"supersin\")\n",
    " "
   ]
  },
  {
   "cell_type": "markdown",
   "metadata": {},
   "source": [
    "soru : \n",
    "1-Kullanicidan bir sayi alin<br>\n",
    "2-Bu sayi 3 e bolunebiliyorsa \"Tech\"<br>\n",
    "3- 5 e bolunebiliyorsa \"Pro\"<br>\n",
    "4-Hem 3 e hem 5 e bolunebiliyorsa\"Techpro\" yazdirin.<br>\n",
    "5-Sayi bu sartlarin hicbirini saglamiyorsa sayinin kendisini yazdiran python kodunu yazin.\n",
    "\n"
   ]
  },
  {
   "cell_type": "code",
   "execution_count": 10,
   "metadata": {},
   "outputs": [
    {
     "name": "stdout",
     "output_type": "stream",
     "text": [
      "Tech\n"
     ]
    }
   ],
   "source": [
    "# cozumde kismi hata var\n",
    "num = int(input(\"lutfen bir sayi giriniz\"))\n",
    "if num % 3 == 0:\n",
    "    \n",
    "     print(\"Tech\")\n",
    "     \n",
    "elif num % 5 == 0:\n",
    "    \n",
    "     print(\"Pro\")\n",
    "     \n",
    "elif num  % 3 == 0 and num % 5 == 0:\n",
    "    \n",
    "     print(\"Techpro\")\n",
    "else:\n",
    "     print(\" num\")\n",
    "     "
   ]
  },
  {
   "cell_type": "code",
   "execution_count": 11,
   "metadata": {},
   "outputs": [
    {
     "name": "stdout",
     "output_type": "stream",
     "text": [
      "Techpro\n"
     ]
    }
   ],
   "source": [
    "num = int(input(\"lutfen bir sayi giriniz\"))\n",
    "if num  % 3 == 0 and num % 5 == 0:\n",
    "    \n",
    "     print(\"Techpro\")\n",
    "     \n",
    "elif num % 5 == 0:\n",
    "    \n",
    "     print(\"Pro\")\n",
    "     \n",
    "elif num % 3 == 0:\n",
    "    \n",
    "     print(\"Techpro\")\n",
    "else:\n",
    "     print(\" num\")"
   ]
  }
 ],
 "metadata": {
  "kernelspec": {
   "display_name": "Python 3",
   "language": "python",
   "name": "python3"
  },
  "language_info": {
   "codemirror_mode": {
    "name": "ipython",
    "version": 3
   },
   "file_extension": ".py",
   "mimetype": "text/x-python",
   "name": "python",
   "nbconvert_exporter": "python",
   "pygments_lexer": "ipython3",
   "version": "3.11.6"
  }
 },
 "nbformat": 4,
 "nbformat_minor": 2
}
