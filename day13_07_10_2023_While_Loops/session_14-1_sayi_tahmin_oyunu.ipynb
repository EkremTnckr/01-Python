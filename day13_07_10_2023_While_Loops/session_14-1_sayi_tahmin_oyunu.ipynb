{
 "cells": [
  {
   "cell_type": "markdown",
   "metadata": {},
   "source": [
    "sayi tahmin oyunu <br>\n",
    "\n",
    "Kulanicidan 1 ile 100 arasinda bir sayi isteyiniz.Kullanicinin girdigi veya soyledigi sayiya gore kullaniciya sayiyi arttir veya azalt diye soyleyecegiz.<br>\n",
    "Kuulanici dogru sayiyi bulalna kadar dongunun calismasini istiyoruz.<br>\n"
   ]
  },
  {
   "cell_type": "code",
   "execution_count": 7,
   "metadata": {},
   "outputs": [
    {
     "name": "stdout",
     "output_type": "stream",
     "text": [
      "girdiginiz sayi90.Tahmini azalt\n",
      "girdiginiz sayi76.Tahmini azalt\n",
      "Girdiginiz sayi 45.Tahmini arttir\n",
      "Girdiginiz sayi55.Dogru bildiniz.Tebrikler\n"
     ]
    }
   ],
   "source": [
    "aklimdaki_sayi = 55       # kullanicinin bu sayiyi bulmasini isteyecegiz\n",
    "\n",
    "while True :               # dongu surekli donsun isiyoruz. \n",
    "    tahmin = int(input(\"aklimdaki sayiyi tahmin et\"))\n",
    "      \n",
    "    if aklimdaki_sayi < tahmin :\n",
    "          print(f\"girdiginiz sayi{tahmin}.Tahmini azalt\")\n",
    "          \n",
    "    elif aklimdaki_sayi > tahmin:\n",
    "          print(f\"Girdiginiz sayi {tahmin}.Tahmini arttir\")\n",
    "    else:\n",
    "          print(f\"Girdiginiz sayi{tahmin}.Dogru bildiniz.Tebrikler\")\n",
    "          break \n",
    "      \n",
    "      \n",
    "          \n",
    "          "
   ]
  },
  {
   "cell_type": "code",
   "execution_count": 8,
   "metadata": {},
   "outputs": [
    {
     "name": "stdout",
     "output_type": "stream",
     "text": [
      "girdiginiz sayi90.Tahmini azalt\n",
      "girdiginiz sayi78.Tahmini azalt\n",
      "girdiginiz sayi65.Tahmini azalt\n",
      "girdiginiz sayi76.Tahmini azalt\n",
      "Girdiginiz sayi 12.Tahmini arttir\n",
      "Girdiginiz sayi 34.Tahmini arttir\n",
      "Girdiginiz sayi 21.Tahmini arttir\n",
      "girdiginiz sayi56.Tahmini azalt\n",
      "Girdiginiz sayi55.9kerede bildiniz.Tebrikler\n"
     ]
    }
   ],
   "source": [
    "# sayac eklersek yani kac kerede bildigini bulalim \n",
    "\n",
    "# sayac dongunun disinda tanimlayip,dongunun icine yazdik\n",
    "\n",
    "\n",
    "aklimdaki_sayi = 55       # kullanicinin bu sayiyi bulmasini isteyecegiz\n",
    "\n",
    "sayac = 0\n",
    "\n",
    "while True :               # dongu surekli donsun isiyoruz. \n",
    "    sayac += 1 \n",
    "    tahmin = int(input(\"aklimdaki sayiyi tahmin et\"))\n",
    "      \n",
    "    if aklimdaki_sayi < tahmin :\n",
    "          print(f\"girdiginiz sayi{tahmin}.Tahmini azalt\")\n",
    "          \n",
    "    elif aklimdaki_sayi > tahmin:\n",
    "          print(f\"Girdiginiz sayi {tahmin}.Tahmini arttir\")\n",
    "    else:\n",
    "          print(f\"Girdiginiz sayi{tahmin}.{sayac}kerede bildiniz.Tebrikler\")\n",
    "          break \n",
    "      \n",
    "      "
   ]
  },
  {
   "cell_type": "markdown",
   "metadata": {},
   "source": [
    "Kullaniciya 5 defa tahmin hakki verelim "
   ]
  },
  {
   "cell_type": "code",
   "execution_count": 10,
   "metadata": {},
   "outputs": [
    {
     "name": "stdout",
     "output_type": "stream",
     "text": [
      "girdiginiz sayi90.Tahmini azalt\n",
      "girdiginiz sayi67.Tahmini azalt\n",
      "girdiginiz sayi87.Tahmini azalt\n",
      "girdiginiz sayi65.Tahmini azalt\n",
      "5 tahmin hakki bitti.Aklimdaki sayi55 idi.\n"
     ]
    }
   ],
   "source": [
    "aklimdaki_sayi = 55       # kullanicinin bu sayiyi bulmasini isteyecegiz\n",
    "\n",
    "sayac = 1 \n",
    "\n",
    "while True :               # dongu surekli donsun isiyoruz. \n",
    "    sayac += 1 \n",
    "    tahmin = int(input(\"aklimdaki sayiyi tahmin et\"))\n",
    "      \n",
    "    if aklimdaki_sayi < tahmin :\n",
    "          print(f\"girdiginiz sayi{tahmin}.Tahmini azalt\")\n",
    "          \n",
    "    elif aklimdaki_sayi > tahmin:\n",
    "          print(f\"Girdiginiz sayi {tahmin}.Tahmini arttir\")\n",
    "    else:\n",
    "          print(f\"Girdiginiz sayi{tahmin}.{sayac}kerede bildiniz.Tebrikler\")\n",
    "          break \n",
    "    if sayac == 5:\n",
    "       print(f\"5 tahmin hakki bitti.Aklimdaki sayi{aklimdaki_sayi} idi.\")\n",
    "       break\n",
    "      "
   ]
  },
  {
   "cell_type": "code",
   "execution_count": 1,
   "metadata": {},
   "outputs": [],
   "source": [
    "import random"
   ]
  },
  {
   "cell_type": "code",
   "execution_count": 2,
   "metadata": {},
   "outputs": [
    {
     "name": "stdout",
     "output_type": "stream",
     "text": [
      "girdiginiz sayi89.Tahmini azalt\n",
      "Girdiginiz sayi 56.Tahmini arttir\n",
      "Girdiginiz sayi 34.Tahmini arttir\n",
      "Girdiginiz sayi 12.Tahmini arttir\n",
      "5 tahmin hakki bitti.Aklimdaki sayi72 idi.\n"
     ]
    }
   ],
   "source": [
    "aklimdaki_sayi = random.randint(1,100)       # kullanicinin bu sayiyi bulmasini isteyecegiz\n",
    "\n",
    "sayac = 1 \n",
    "\n",
    "while True :               # dongu surekli donsun isiyoruz. \n",
    "    sayac += 1 \n",
    "    tahmin = int(input(\"aklimdaki sayiyi tahmin et\"))\n",
    "      \n",
    "    if aklimdaki_sayi < tahmin :\n",
    "          print(f\"girdiginiz sayi{tahmin}.Tahmini azalt\")\n",
    "          \n",
    "    elif aklimdaki_sayi > tahmin:\n",
    "          print(f\"Girdiginiz sayi {tahmin}.Tahmini arttir\")\n",
    "    else:\n",
    "          print(f\"Girdiginiz sayi{tahmin}.{sayac}kerede bildiniz.Tebrikler\")\n",
    "          break \n",
    "    if sayac == 5:\n",
    "       print(f\"5 tahmin hakki bitti.Aklimdaki sayi{aklimdaki_sayi} idi.\")\n",
    "       break\n",
    "      "
   ]
  }
 ],
 "metadata": {
  "kernelspec": {
   "display_name": "Python 3",
   "language": "python",
   "name": "python3"
  },
  "language_info": {
   "codemirror_mode": {
    "name": "ipython",
    "version": 3
   },
   "file_extension": ".py",
   "mimetype": "text/x-python",
   "name": "python",
   "nbconvert_exporter": "python",
   "pygments_lexer": "ipython3",
   "version": "3.11.6"
  }
 },
 "nbformat": 4,
 "nbformat_minor": 2
}
