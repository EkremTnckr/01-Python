{
 "cells": [
  {
   "cell_type": "code",
   "execution_count": 1,
   "metadata": {},
   "outputs": [
    {
     "data": {
      "text/plain": [
       "[1, 15, 2, 36, 5, 89, 45, 62, 52, 71, 30, 56, 45, 95, 61, 48]"
      ]
     },
     "execution_count": 1,
     "metadata": {},
     "output_type": "execute_result"
    }
   ],
   "source": [
    "sayilar_listesi = [1,15,2,36,5,89,45,62,52,71,30,56,45,95,61,48]\n",
    "sayilar_listesi"
   ]
  },
  {
   "cell_type": "code",
   "execution_count": 29,
   "metadata": {},
   "outputs": [
    {
     "name": "stdout",
     "output_type": "stream",
     "text": [
      "tek sayilar listesi:[1, 15, 5, 89, 45, 71, 45, 95, 61]\n",
      "cift sayilar listesi:[2, 36, 62, 52, 30, 56, 48]\n"
     ]
    }
   ],
   "source": [
    "odds= []\n",
    "evens =[]\n",
    "\n",
    "x = 0 \n",
    "while x < len(sayilar_listesi):\n",
    "    \n",
    "    if sayilar_listesi[x] % 2 == 0: # cift sayilarl listesi\n",
    "        evens.append(sayilar_listesi[x])\n",
    "        \n",
    "    else:\n",
    "        odds.append(sayilar_listesi[x]) # tek sayilar listesi     \n",
    "    x += 1 \n",
    "    \n",
    "print(f\"tek sayilar listesi:{odds}\")\n",
    "\n",
    "print(f\"cift sayilar listesi:{evens}\")\n",
    "        "
   ]
  },
  {
   "cell_type": "code",
   "execution_count": 36,
   "metadata": {},
   "outputs": [
    {
     "name": "stdout",
     "output_type": "stream",
     "text": [
      "tek sayilar listesi:[1, 15, 5, 89, 45, 71, 45, 95, 61].Bu liste 9 elemanlidir\n",
      "cift sayilar listesi:[2, 36, 62, 52, 30, 56, 48].Bu liste 7 elemanlidir\n"
     ]
    }
   ],
   "source": [
    "# print format yontemi \n",
    "\n",
    "\n",
    "odds= []\n",
    "evens =[]\n",
    "\n",
    "x = 0 \n",
    "while x < len(sayilar_listesi):\n",
    "    \n",
    "    if sayilar_listesi[x] % 2 == 0: # cift sayilarl listesi\n",
    "        evens.append(sayilar_listesi[x])\n",
    "        \n",
    "    else:\n",
    "        odds.append(sayilar_listesi[x]) # tek sayilar listesi     \n",
    "    x += 1 \n",
    "    \n",
    "print(\"tek sayilar listesi:{}.Bu liste {} elemanlidir\".format(odds,len(odds)))\n",
    "print(\"cift sayilar listesi:{}.Bu liste {} elemanlidir\".format(evens,len(evens)))"
   ]
  },
  {
   "cell_type": "code",
   "execution_count": 37,
   "metadata": {},
   "outputs": [
    {
     "data": {
      "text/plain": [
       "[1, 15, 5, 89, 45, 71, 45, 95, 61]"
      ]
     },
     "execution_count": 37,
     "metadata": {},
     "output_type": "execute_result"
    }
   ],
   "source": [
    "odds"
   ]
  },
  {
   "cell_type": "code",
   "execution_count": 39,
   "metadata": {},
   "outputs": [
    {
     "data": {
      "text/plain": [
       "[1, 5, 15, 45, 45, 61, 71, 89, 95]"
      ]
     },
     "execution_count": 39,
     "metadata": {},
     "output_type": "execute_result"
    }
   ],
   "source": [
    "odds.sort()\n",
    "odds"
   ]
  },
  {
   "cell_type": "code",
   "execution_count": 41,
   "metadata": {},
   "outputs": [
    {
     "data": {
      "text/plain": [
       "[2, 30, 36, 48, 52, 56, 62]"
      ]
     },
     "execution_count": 41,
     "metadata": {},
     "output_type": "execute_result"
    }
   ],
   "source": [
    "\n",
    "evens"
   ]
  },
  {
   "cell_type": "code",
   "execution_count": 42,
   "metadata": {},
   "outputs": [
    {
     "data": {
      "text/plain": [
       "[2, 30, 36, 48, 52, 56, 62]"
      ]
     },
     "execution_count": 42,
     "metadata": {},
     "output_type": "execute_result"
    }
   ],
   "source": [
    "evens.sort()\n",
    "evens"
   ]
  },
  {
   "cell_type": "code",
   "execution_count": 43,
   "metadata": {},
   "outputs": [
    {
     "name": "stdout",
     "output_type": "stream",
     "text": [
      "tek sayilar listesi:[1, 5, 15, 45, 45, 61, 71, 89, 95].Bu liste 9 elemanlidir\n",
      "cift sayilar listesi:[2, 30, 36, 48, 52, 56, 62].Bu liste 7 elemanlidir\n"
     ]
    }
   ],
   "source": [
    "# listeleri kucukten byuyuge siralamak istersek\n",
    "# sort()fonksiyonu printten once yazilmali\n",
    "\n",
    "\n",
    "odds= []\n",
    "evens =[]\n",
    "\n",
    "x = 0 \n",
    "while x < len(sayilar_listesi):\n",
    "    \n",
    "    if sayilar_listesi[x] % 2 == 0: # cift sayilarl listesi\n",
    "        evens.append(sayilar_listesi[x])\n",
    "        \n",
    "    else:\n",
    "        odds.append(sayilar_listesi[x]) # tek sayilar listesi     \n",
    "    x += 1 \n",
    "odds.sort()\n",
    "evens.sort()    \n",
    "    \n",
    "print(\"tek sayilar listesi:{}.Bu liste {} elemanlidir\".format(odds,len(odds)))\n",
    "print(\"cift sayilar listesi:{}.Bu liste {} elemanlidir\".format(evens,len(evens)))\n"
   ]
  },
  {
   "cell_type": "code",
   "execution_count": 1,
   "metadata": {},
   "outputs": [
    {
     "data": {
      "text/plain": [
       "[1, 4, 5, 6, 9, 85, 23, 65, 47, 32, 91]"
      ]
     },
     "execution_count": 1,
     "metadata": {},
     "output_type": "execute_result"
    }
   ],
   "source": [
    "liste_1 = [1,4,5,6,9,85,23,65,47,32,91]\n",
    "liste_1"
   ]
  },
  {
   "cell_type": "markdown",
   "metadata": {},
   "source": [
    "liste_1  in en kucuk elemanini min-sort metodu kullanmadan bulunuz"
   ]
  },
  {
   "cell_type": "code",
   "execution_count": 2,
   "metadata": {},
   "outputs": [
    {
     "data": {
      "text/plain": [
       "[1, 4, 5, 6, 9, 85, 23, 65, 47, 32, 91]"
      ]
     },
     "execution_count": 2,
     "metadata": {},
     "output_type": "execute_result"
    }
   ],
   "source": [
    "liste_1"
   ]
  },
  {
   "cell_type": "code",
   "execution_count": 5,
   "metadata": {},
   "outputs": [
    {
     "name": "stdout",
     "output_type": "stream",
     "text": [
      "1\n"
     ]
    }
   ],
   "source": [
    "liste_1 = [1,4,5,6,9,85,23,65,47,32,91]\n",
    "\n",
    "x = 0\n",
    "min_sayi = liste_1[0]\n",
    "\n",
    "while x < len(liste_1):\n",
    "    \n",
    "    if min_sayi > liste_1[x]:\n",
    "        min_sayi =liste_1[x]\n",
    "    \n",
    "    x += 1\n",
    "print(min_sayi)    "
   ]
  }
 ],
 "metadata": {
  "kernelspec": {
   "display_name": "Python 3",
   "language": "python",
   "name": "python3"
  },
  "language_info": {
   "codemirror_mode": {
    "name": "ipython",
    "version": 3
   },
   "file_extension": ".py",
   "mimetype": "text/x-python",
   "name": "python",
   "nbconvert_exporter": "python",
   "pygments_lexer": "ipython3",
   "version": "3.11.6"
  }
 },
 "nbformat": 4,
 "nbformat_minor": 2
}
