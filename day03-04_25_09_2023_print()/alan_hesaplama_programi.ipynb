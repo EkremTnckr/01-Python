{
 "cells": [
  {
   "cell_type": "markdown",
   "metadata": {},
   "source": [
    "soru :python ile alan hesaplama programi yaziniz\n"
   ]
  },
  {
   "cell_type": "code",
   "execution_count": 6,
   "metadata": {},
   "outputs": [],
   "source": [
    "istek = input(\"Alanini Hesaplamak istediğiniz sekli seciniz.:\\n 1.Kare\\n 2.Dikdortgen\\n 3.Ücgen\\n 4.Daire\\n 5.Paralel Kenar.:\")\n",
    "if istek==\"1\":    \n",
    "    x = int(input(\"Karenin bir kenarini giriniz...:\"))\n",
    "    print(\"Karenin Alani....:\", x ** 2)\n",
    "    \n",
    "elif istek==\"2\":\n",
    "    x = int(input(\"Dikdortgenin  uzun kenarini giriniz...:\"))\n",
    "    y = int(input(\"Dikdortgenin kisa  kenarini giriniz...:\"))\n",
    "    print(\"Dikdortgenin Alani....:\", x * y )\n",
    "    \n",
    "elif istek==\"3\":\n",
    "    x = int(input(\"Ücgenin taban uzunlugunu giriniz...:\"))\n",
    "    y = int(input(\"Ücgenin yükseklik uzunlugunu giriniz...:\"))\n",
    "    print(\"Ücgenin Alani....:\", int(x * y / 2))\n",
    "    \n",
    "elif istek==\"4\":     \n",
    "    x = int(input(\"Dairenin yaricap uzunluunu giriniz...:\"))\n",
    "    print(\"Dairenin Alani....:\", x ** 2 * 3)\n",
    "    \n",
    "elif istek==\"5\":\n",
    "    x = int(input(\"Paralel Kenarin taban uzunlugunu giriniz...:\"))\n",
    "    y = int(input(\"Paralel Kenarin yukseklik uzunlugunu giriniz...:\"))\n",
    "    print(\"Paralel Kenarin Alani....:\", x * y)\n",
    "    \n",
    "else:\n",
    "    print(\"Yanlis Giris Yaptiniz 1, 2, 3, 4, 5 bunlardan giriniz.\")\n",
    "    "
   ]
  }
 ],
 "metadata": {
  "kernelspec": {
   "display_name": "Python 3",
   "language": "python",
   "name": "python3"
  },
  "language_info": {
   "codemirror_mode": {
    "name": "ipython",
    "version": 3
   },
   "file_extension": ".py",
   "mimetype": "text/x-python",
   "name": "python",
   "nbconvert_exporter": "python",
   "pygments_lexer": "ipython3",
   "version": "3.12.0"
  }
 },
 "nbformat": 4,
 "nbformat_minor": 2
}
